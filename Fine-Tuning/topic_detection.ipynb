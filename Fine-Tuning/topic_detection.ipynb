{
 "cells": [
  {
   "cell_type": "markdown",
   "source": [
    "# pip installs and imports"
   ],
   "metadata": {
    "collapsed": false
   }
  },
  {
   "cell_type": "code",
   "execution_count": null,
   "outputs": [],
   "source": [
    "!pip install -r requirements.txt"
   ],
   "metadata": {
    "collapsed": false,
    "ExecuteTime": {
     "start_time": "2023-06-06T19:43:02.107603Z",
     "end_time": "2023-06-06T19:43:08.445251Z"
    }
   }
  },
  {
   "cell_type": "code",
   "execution_count": null,
   "outputs": [],
   "source": [
    "import json\n",
    "import os\n",
    "import time\n",
    "import requests"
   ],
   "metadata": {
    "collapsed": false,
    "ExecuteTime": {
     "start_time": "2023-06-06T19:43:08.448139Z",
     "end_time": "2023-06-06T19:43:08.509112Z"
    }
   }
  },
  {
   "cell_type": "code",
   "execution_count": null,
   "outputs": [],
   "source": [
    "file_path = '../keys.json'\n",
    "target_key = 'meaningcloud'\n",
    "with open(file_path, 'r') as file:\n",
    "    data = json.load(file)\n",
    "key = data.get(target_key)\n",
    "if key is not None:\n",
    "    print(f\"API KEY found\")"
   ],
   "metadata": {
    "collapsed": false,
    "ExecuteTime": {
     "start_time": "2023-06-06T19:43:08.510438Z",
     "end_time": "2023-06-06T19:43:08.513496Z"
    }
   }
  },
  {
   "cell_type": "markdown",
   "source": [
    "# Calling the meaningcloud API to detect topics"
   ],
   "metadata": {
    "collapsed": false
   }
  },
  {
   "cell_type": "code",
   "execution_count": null,
   "metadata": {
    "collapsed": true,
    "ExecuteTime": {
     "start_time": "2023-06-06T19:43:08.516506Z",
     "end_time": "2023-06-06T19:43:39.998273Z"
    }
   },
   "outputs": [],
   "source": [
    "url = \"https://api.meaningcloud.com/topics-2.0\"\n",
    "\n",
    "folderpath = r\"./txt_conversations\"\n",
    "\n",
    "filepaths = [os.path.join(folderpath, name) for name in os.listdir(folderpath)]\n",
    "all_files = []\n",
    "\n",
    "for path in filepaths:\n",
    "    print(path)\n",
    "    try:\n",
    "        with open(path, 'r') as f:\n",
    "            file = f.read()\n",
    "            all_files.append(file)\n",
    "    except:\n",
    "        print(\"EXCEPTION\" + path)\n",
    "        continue\n",
    "\n",
    "all_topics = []\n",
    "for file in all_files:\n",
    "    payload = {\n",
    "        'key': key, # mine might still work\n",
    "        'txt': file,\n",
    "        'lang': 'en',  # 2-letter code, like en es fr ...\n",
    "        'tt': 'c'  # all topics\n",
    "    }\n",
    "    response = requests.post(url, data=payload)\n",
    "    print('Status code:', response.status_code)\n",
    "    print(file)\n",
    "    print(response.json())\n",
    "    concepts = response.json()['concept_list']\n",
    "\n",
    "    for concept in concepts:\n",
    "        print(\"CONCEPT: \")\n",
    "        print(f\"Concept: {concept['form']}, Relevancy: {concept['relevance']}\")\n",
    "\n",
    "    all_topics.append(response.json())\n",
    "\n",
    "    # To avoid request limit errors\n",
    "    time.sleep(2.5)\n",
    "\n",
    "    with open(\"./output_files/all_topics.json\", mode='w', encoding='utf-8') as feedsjson3:\n",
    "        json.dump(all_topics, feedsjson3)"
   ]
  },
  {
   "cell_type": "markdown",
   "source": [
    "# Cleaning the results"
   ],
   "metadata": {
    "collapsed": false
   }
  },
  {
   "cell_type": "code",
   "execution_count": null,
   "outputs": [],
   "source": [
    "f = open('./output_files/all_topics.json')\n",
    "topics = json.load(f)\n",
    "relevancy_list = []\n",
    "\n",
    "for toic in topics:\n",
    "    for concept in toic['concept_list']:\n",
    "        if int(concept['relevance']) >= 50:\n",
    "            print(concept['form'])\n",
    "            relevancy_list.append(concept['form'])\n",
    "\n",
    "with open(\"./output_files/all_relevant_topics.json\", mode='w', encoding='utf-8') as feedsjson3:\n",
    "    json.dump(relevancy_list, feedsjson3)\n"
   ],
   "metadata": {
    "collapsed": false,
    "ExecuteTime": {
     "start_time": "2023-06-06T19:43:39.628946Z",
     "end_time": "2023-06-06T19:43:40.078049Z"
    }
   }
  }
 ],
 "metadata": {
  "kernelspec": {
   "display_name": "Python 3",
   "language": "python",
   "name": "python3"
  },
  "language_info": {
   "codemirror_mode": {
    "name": "ipython",
    "version": 2
   },
   "file_extension": ".py",
   "mimetype": "text/x-python",
   "name": "python",
   "nbconvert_exporter": "python",
   "pygments_lexer": "ipython2",
   "version": "2.7.6"
  }
 },
 "nbformat": 4,
 "nbformat_minor": 0
}
