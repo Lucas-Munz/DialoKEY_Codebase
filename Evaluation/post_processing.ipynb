{
 "cells": [
  {
   "cell_type": "markdown",
   "source": [
    "# Imports and Installations"
   ],
   "metadata": {
    "collapsed": false
   }
  },
  {
   "cell_type": "code",
   "execution_count": 1,
   "metadata": {
    "collapsed": true,
    "ExecuteTime": {
     "start_time": "2023-06-07T10:46:08.332546Z",
     "end_time": "2023-06-07T10:46:55.893196Z"
    }
   },
   "outputs": [
    {
     "name": "stdout",
     "output_type": "stream",
     "text": [
      "Collecting sentence-transformers\r\n",
      "  Using cached sentence_transformers-2.2.2-py3-none-any.whl\r\n",
      "Collecting scipy\r\n",
      "  Using cached scipy-1.10.1-cp310-cp310-macosx_10_9_x86_64.whl (35.1 MB)\r\n",
      "Collecting openai\r\n",
      "  Downloading openai-0.27.8-py3-none-any.whl (73 kB)\r\n",
      "\u001B[2K     \u001B[90m━━━━━━━━━━━━━━━━━━━━━━━━━━━━━━━━━━━━━━━━\u001B[0m \u001B[32m73.6/73.6 kB\u001B[0m \u001B[31m2.6 MB/s\u001B[0m eta \u001B[36m0:00:00\u001B[0m\r\n",
      "\u001B[?25hCollecting Levenshtein\r\n",
      "  Using cached Levenshtein-0.21.0-cp310-cp310-macosx_10_9_x86_64.whl (131 kB)\r\n",
      "Collecting fuzzywuzzy\r\n",
      "  Using cached fuzzywuzzy-0.18.0-py2.py3-none-any.whl (18 kB)\r\n",
      "Collecting pymongo\r\n",
      "  Using cached pymongo-4.3.3-cp310-cp310-macosx_10_9_universal2.whl (413 kB)\r\n",
      "Collecting transformers\r\n",
      "  Using cached transformers-4.29.2-py3-none-any.whl (7.1 MB)\r\n",
      "Collecting nltk\r\n",
      "  Using cached nltk-3.8.1-py3-none-any.whl (1.5 MB)\r\n",
      "Collecting rouge\r\n",
      "  Using cached rouge-1.0.1-py3-none-any.whl (13 kB)\r\n",
      "Collecting spacy\r\n",
      "  Using cached spacy-3.5.3-cp310-cp310-macosx_10_9_x86_64.whl (6.9 MB)\r\n",
      "Collecting yake\r\n",
      "  Using cached yake-0.4.8-py2.py3-none-any.whl (60 kB)\r\n",
      "Collecting multi_rake\r\n",
      "  Using cached multi_rake-0.0.2-py3-none-any.whl (31 kB)\r\n",
      "Collecting keybert\r\n",
      "  Using cached keybert-0.7.0-py3-none-any.whl\r\n",
      "Collecting statsmodels\r\n",
      "  Using cached statsmodels-0.14.0-cp310-cp310-macosx_10_9_x86_64.whl (9.9 MB)\r\n",
      "Collecting bioinfokit\r\n",
      "  Using cached bioinfokit-2.1.0-py3-none-any.whl\r\n",
      "Collecting seaborn\r\n",
      "  Using cached seaborn-0.12.2-py3-none-any.whl (293 kB)\r\n",
      "Collecting tqdm\r\n",
      "  Using cached tqdm-4.65.0-py3-none-any.whl (77 kB)\r\n",
      "Collecting scikit-learn\r\n",
      "  Using cached scikit_learn-1.2.2-cp310-cp310-macosx_10_9_x86_64.whl (9.1 MB)\r\n",
      "Collecting huggingface-hub>=0.4.0\r\n",
      "  Using cached huggingface_hub-0.15.1-py3-none-any.whl (236 kB)\r\n",
      "Collecting torch>=1.6.0\r\n",
      "  Using cached torch-2.0.1-cp310-none-macosx_10_9_x86_64.whl (143.4 MB)\r\n",
      "Collecting numpy\r\n",
      "  Using cached numpy-1.24.3-cp310-cp310-macosx_10_9_x86_64.whl (19.8 MB)\r\n",
      "Collecting torchvision\r\n",
      "  Using cached torchvision-0.15.2-cp310-cp310-macosx_10_9_x86_64.whl (1.5 MB)\r\n",
      "Collecting sentencepiece\r\n",
      "  Using cached sentencepiece-0.1.99-cp310-cp310-macosx_10_9_x86_64.whl (1.2 MB)\r\n",
      "Requirement already satisfied: requests>=2.20 in /Users/lucas/opt/miniconda3/envs/DialoKEY_Codebase/lib/python3.10/site-packages (from openai->-r requirements.txt (line 4)) (2.29.0)\r\n",
      "Collecting aiohttp\r\n",
      "  Using cached aiohttp-3.8.4-cp310-cp310-macosx_10_9_x86_64.whl (358 kB)\r\n",
      "Collecting rapidfuzz<4.0.0,>=2.3.0\r\n",
      "  Downloading rapidfuzz-3.1.1-cp310-cp310-macosx_10_9_x86_64.whl (2.5 MB)\r\n",
      "\u001B[2K     \u001B[90m━━━━━━━━━━━━━━━━━━━━━━━━━━━━━━━━━━━━━━━━\u001B[0m \u001B[32m2.5/2.5 MB\u001B[0m \u001B[31m22.1 MB/s\u001B[0m eta \u001B[36m0:00:00\u001B[0m00:01\u001B[0m00:01\u001B[0m\r\n",
      "\u001B[?25hCollecting dnspython<3.0.0,>=1.16.0\r\n",
      "  Using cached dnspython-2.3.0-py3-none-any.whl (283 kB)\r\n",
      "Collecting tokenizers!=0.11.3,<0.14,>=0.11.1\r\n",
      "  Using cached tokenizers-0.13.3-cp310-cp310-macosx_10_11_x86_64.whl (4.0 MB)\r\n",
      "Collecting regex!=2019.12.17\r\n",
      "  Using cached regex-2023.6.3-cp310-cp310-macosx_10_9_x86_64.whl (294 kB)\r\n",
      "Collecting filelock\r\n",
      "  Using cached filelock-3.12.0-py3-none-any.whl (10 kB)\r\n",
      "Requirement already satisfied: packaging>=20.0 in /Users/lucas/opt/miniconda3/envs/DialoKEY_Codebase/lib/python3.10/site-packages (from transformers->-r requirements.txt (line 8)) (23.0)\r\n",
      "Requirement already satisfied: pyyaml>=5.1 in /Users/lucas/opt/miniconda3/envs/DialoKEY_Codebase/lib/python3.10/site-packages (from transformers->-r requirements.txt (line 8)) (6.0)\r\n",
      "Collecting click\r\n",
      "  Using cached click-8.1.3-py3-none-any.whl (96 kB)\r\n",
      "Collecting joblib\r\n",
      "  Using cached joblib-1.2.0-py3-none-any.whl (297 kB)\r\n",
      "Requirement already satisfied: six in /Users/lucas/opt/miniconda3/envs/DialoKEY_Codebase/lib/python3.10/site-packages (from rouge->-r requirements.txt (line 10)) (1.16.0)\r\n",
      "Collecting preshed<3.1.0,>=3.0.2\r\n",
      "  Using cached preshed-3.0.8-cp310-cp310-macosx_10_9_x86_64.whl (106 kB)\r\n",
      "Collecting wasabi<1.2.0,>=0.9.1\r\n",
      "  Downloading wasabi-1.1.2-py3-none-any.whl (27 kB)\r\n",
      "Collecting spacy-legacy<3.1.0,>=3.0.11\r\n",
      "  Using cached spacy_legacy-3.0.12-py2.py3-none-any.whl (29 kB)\r\n",
      "Collecting thinc<8.2.0,>=8.1.8\r\n",
      "  Using cached thinc-8.1.10-cp310-cp310-macosx_10_9_x86_64.whl (859 kB)\r\n",
      "Collecting typer<0.8.0,>=0.3.0\r\n",
      "  Using cached typer-0.7.0-py3-none-any.whl (38 kB)\r\n",
      "Requirement already satisfied: setuptools in /Users/lucas/opt/miniconda3/envs/DialoKEY_Codebase/lib/python3.10/site-packages (from spacy->-r requirements.txt (line 11)) (67.8.0)\r\n",
      "Collecting cymem<2.1.0,>=2.0.2\r\n",
      "  Using cached cymem-2.0.7-cp310-cp310-macosx_10_9_x86_64.whl (32 kB)\r\n",
      "Collecting spacy-loggers<2.0.0,>=1.0.0\r\n",
      "  Using cached spacy_loggers-1.0.4-py3-none-any.whl (11 kB)\r\n",
      "Requirement already satisfied: jinja2 in /Users/lucas/opt/miniconda3/envs/DialoKEY_Codebase/lib/python3.10/site-packages (from spacy->-r requirements.txt (line 11)) (3.1.2)\r\n",
      "Collecting langcodes<4.0.0,>=3.2.0\r\n",
      "  Using cached langcodes-3.3.0-py3-none-any.whl (181 kB)\r\n",
      "Collecting smart-open<7.0.0,>=5.2.1\r\n",
      "  Using cached smart_open-6.3.0-py3-none-any.whl (56 kB)\r\n",
      "Collecting pydantic!=1.8,!=1.8.1,<1.11.0,>=1.7.4\r\n",
      "  Using cached pydantic-1.10.8-cp310-cp310-macosx_10_9_x86_64.whl (2.9 MB)\r\n",
      "Collecting pathy>=0.10.0\r\n",
      "  Using cached pathy-0.10.1-py3-none-any.whl (48 kB)\r\n",
      "Collecting catalogue<2.1.0,>=2.0.6\r\n",
      "  Using cached catalogue-2.0.8-py3-none-any.whl (17 kB)\r\n",
      "Collecting srsly<3.0.0,>=2.4.3\r\n",
      "  Using cached srsly-2.4.6-cp310-cp310-macosx_10_9_x86_64.whl (491 kB)\r\n",
      "Collecting murmurhash<1.1.0,>=0.28.0\r\n",
      "  Using cached murmurhash-1.0.9-cp310-cp310-macosx_10_9_x86_64.whl (18 kB)\r\n",
      "Collecting jellyfish\r\n",
      "  Using cached jellyfish-0.11.2-cp310-cp310-macosx_10_7_x86_64.whl (328 kB)\r\n",
      "Collecting segtok\r\n",
      "  Using cached segtok-1.5.11-py3-none-any.whl (24 kB)\r\n",
      "Collecting tabulate\r\n",
      "  Using cached tabulate-0.9.0-py3-none-any.whl (35 kB)\r\n",
      "Collecting networkx\r\n",
      "  Using cached networkx-3.1-py3-none-any.whl (2.1 MB)\r\n",
      "Collecting pycld2>=0.41\r\n",
      "  Using cached pycld2-0.41-cp310-cp310-macosx_10_9_universal2.whl\r\n",
      "Requirement already satisfied: pyrsistent>=0.14.2 in /Users/lucas/opt/miniconda3/envs/DialoKEY_Codebase/lib/python3.10/site-packages (from multi_rake->-r requirements.txt (line 13)) (0.18.0)\r\n",
      "Collecting rich>=10.4.0\r\n",
      "  Using cached rich-13.4.1-py3-none-any.whl (239 kB)\r\n",
      "Collecting patsy>=0.5.2\r\n",
      "  Using cached patsy-0.5.3-py2.py3-none-any.whl (233 kB)\r\n",
      "Collecting pandas>=1.0\r\n",
      "  Using cached pandas-2.0.2-cp310-cp310-macosx_10_9_x86_64.whl (11.8 MB)\r\n",
      "Collecting matplotlib\r\n",
      "  Using cached matplotlib-3.7.1-cp310-cp310-macosx_10_12_x86_64.whl (7.4 MB)\r\n",
      "Collecting adjustText\r\n",
      "  Using cached adjustText-0.8-py3-none-any.whl (9.1 kB)\r\n",
      "Collecting matplotlib-venn\r\n",
      "  Using cached matplotlib_venn-0.11.9-py3-none-any.whl\r\n",
      "Collecting textwrap3\r\n",
      "  Using cached textwrap3-0.9.2-py2.py3-none-any.whl (12 kB)\r\n",
      "Collecting fsspec\r\n",
      "  Using cached fsspec-2023.5.0-py3-none-any.whl (160 kB)\r\n",
      "Requirement already satisfied: typing-extensions>=3.7.4.3 in /Users/lucas/opt/miniconda3/envs/DialoKEY_Codebase/lib/python3.10/site-packages (from huggingface-hub>=0.4.0->sentence-transformers->-r requirements.txt (line 1)) (4.5.0)\r\n",
      "Collecting pyparsing>=2.3.1\r\n",
      "  Using cached pyparsing-3.0.9-py3-none-any.whl (98 kB)\r\n",
      "Collecting cycler>=0.10\r\n",
      "  Using cached cycler-0.11.0-py3-none-any.whl (6.4 kB)\r\n",
      "Requirement already satisfied: python-dateutil>=2.7 in /Users/lucas/opt/miniconda3/envs/DialoKEY_Codebase/lib/python3.10/site-packages (from matplotlib->bioinfokit->-r requirements.txt (line 16)) (2.8.2)\r\n",
      "Collecting kiwisolver>=1.0.1\r\n",
      "  Using cached kiwisolver-1.4.4-cp310-cp310-macosx_10_9_x86_64.whl (65 kB)\r\n",
      "Collecting contourpy>=1.0.1\r\n",
      "  Using cached contourpy-1.0.7-cp310-cp310-macosx_10_9_x86_64.whl (244 kB)\r\n",
      "Collecting fonttools>=4.22.0\r\n",
      "  Using cached fonttools-4.39.4-py3-none-any.whl (1.0 MB)\r\n",
      "Collecting pillow>=6.2.0\r\n",
      "  Using cached Pillow-9.5.0-cp310-cp310-macosx_10_10_x86_64.whl (3.4 MB)\r\n",
      "Collecting tzdata>=2022.1\r\n",
      "  Using cached tzdata-2023.3-py2.py3-none-any.whl (341 kB)\r\n",
      "Requirement already satisfied: pytz>=2020.1 in /Users/lucas/opt/miniconda3/envs/DialoKEY_Codebase/lib/python3.10/site-packages (from pandas>=1.0->statsmodels->-r requirements.txt (line 15)) (2022.7)\r\n",
      "Requirement already satisfied: urllib3<1.27,>=1.21.1 in /Users/lucas/opt/miniconda3/envs/DialoKEY_Codebase/lib/python3.10/site-packages (from requests>=2.20->openai->-r requirements.txt (line 4)) (1.26.15)\r\n",
      "Requirement already satisfied: certifi>=2017.4.17 in /Users/lucas/opt/miniconda3/envs/DialoKEY_Codebase/lib/python3.10/site-packages (from requests>=2.20->openai->-r requirements.txt (line 4)) (2023.5.7)\r\n",
      "Requirement already satisfied: charset-normalizer<4,>=2 in /Users/lucas/opt/miniconda3/envs/DialoKEY_Codebase/lib/python3.10/site-packages (from requests>=2.20->openai->-r requirements.txt (line 4)) (2.0.4)\r\n",
      "Requirement already satisfied: idna<4,>=2.5 in /Users/lucas/opt/miniconda3/envs/DialoKEY_Codebase/lib/python3.10/site-packages (from requests>=2.20->openai->-r requirements.txt (line 4)) (3.4)\r\n",
      "Requirement already satisfied: pygments<3.0.0,>=2.13.0 in /Users/lucas/opt/miniconda3/envs/DialoKEY_Codebase/lib/python3.10/site-packages (from rich>=10.4.0->keybert->-r requirements.txt (line 14)) (2.15.1)\r\n",
      "Collecting markdown-it-py<3.0.0,>=2.2.0\r\n",
      "  Using cached markdown_it_py-2.2.0-py3-none-any.whl (84 kB)\r\n",
      "Collecting threadpoolctl>=2.0.0\r\n",
      "  Using cached threadpoolctl-3.1.0-py3-none-any.whl (14 kB)\r\n",
      "Collecting blis<0.8.0,>=0.7.8\r\n",
      "  Using cached blis-0.7.9-cp310-cp310-macosx_10_9_x86_64.whl (6.1 MB)\r\n",
      "Collecting confection<1.0.0,>=0.0.1\r\n",
      "  Using cached confection-0.0.4-py3-none-any.whl (32 kB)\r\n",
      "Collecting sympy\r\n",
      "  Using cached sympy-1.12-py3-none-any.whl (5.7 MB)\r\n",
      "Collecting frozenlist>=1.1.1\r\n",
      "  Using cached frozenlist-1.3.3-cp310-cp310-macosx_10_9_x86_64.whl (35 kB)\r\n",
      "Collecting yarl<2.0,>=1.0\r\n",
      "  Using cached yarl-1.9.2-cp310-cp310-macosx_10_9_x86_64.whl (65 kB)\r\n",
      "Requirement already satisfied: attrs>=17.3.0 in /Users/lucas/opt/miniconda3/envs/DialoKEY_Codebase/lib/python3.10/site-packages (from aiohttp->openai->-r requirements.txt (line 4)) (22.1.0)\r\n",
      "Collecting aiosignal>=1.1.2\r\n",
      "  Using cached aiosignal-1.3.1-py3-none-any.whl (7.6 kB)\r\n",
      "Collecting multidict<7.0,>=4.5\r\n",
      "  Using cached multidict-6.0.4-cp310-cp310-macosx_10_9_x86_64.whl (29 kB)\r\n",
      "Collecting async-timeout<5.0,>=4.0.0a3\r\n",
      "  Using cached async_timeout-4.0.2-py3-none-any.whl (5.8 kB)\r\n",
      "Requirement already satisfied: MarkupSafe>=2.0 in /Users/lucas/opt/miniconda3/envs/DialoKEY_Codebase/lib/python3.10/site-packages (from jinja2->spacy->-r requirements.txt (line 11)) (2.1.1)\r\n",
      "Collecting mdurl~=0.1\r\n",
      "  Using cached mdurl-0.1.2-py3-none-any.whl (10.0 kB)\r\n",
      "Collecting mpmath>=0.19\r\n",
      "  Using cached mpmath-1.3.0-py3-none-any.whl (536 kB)\r\n",
      "Installing collected packages: tokenizers, textwrap3, sentencepiece, pycld2, mpmath, fuzzywuzzy, cymem, wasabi, tzdata, tqdm, threadpoolctl, tabulate, sympy, spacy-loggers, spacy-legacy, smart-open, rouge, regex, rapidfuzz, pyparsing, pydantic, pillow, numpy, networkx, murmurhash, multidict, mdurl, langcodes, kiwisolver, joblib, jellyfish, fsspec, frozenlist, fonttools, filelock, dnspython, cycler, click, catalogue, async-timeout, yarl, typer, torch, srsly, segtok, scipy, pymongo, preshed, patsy, pandas, nltk, multi_rake, markdown-it-py, Levenshtein, huggingface-hub, contourpy, blis, aiosignal, yake, transformers, torchvision, statsmodels, scikit-learn, rich, pathy, matplotlib, confection, aiohttp, thinc, sentence-transformers, seaborn, openai, matplotlib-venn, adjustText, spacy, keybert, bioinfokit\r\n",
      "Successfully installed Levenshtein-0.21.0 adjustText-0.8 aiohttp-3.8.4 aiosignal-1.3.1 async-timeout-4.0.2 bioinfokit-2.1.0 blis-0.7.9 catalogue-2.0.8 click-8.1.3 confection-0.0.4 contourpy-1.0.7 cycler-0.11.0 cymem-2.0.7 dnspython-2.3.0 filelock-3.12.0 fonttools-4.39.4 frozenlist-1.3.3 fsspec-2023.5.0 fuzzywuzzy-0.18.0 huggingface-hub-0.15.1 jellyfish-0.11.2 joblib-1.2.0 keybert-0.7.0 kiwisolver-1.4.4 langcodes-3.3.0 markdown-it-py-2.2.0 matplotlib-3.7.1 matplotlib-venn-0.11.9 mdurl-0.1.2 mpmath-1.3.0 multi_rake-0.0.2 multidict-6.0.4 murmurhash-1.0.9 networkx-3.1 nltk-3.8.1 numpy-1.24.3 openai-0.27.8 pandas-2.0.2 pathy-0.10.1 patsy-0.5.3 pillow-9.5.0 preshed-3.0.8 pycld2-0.41 pydantic-1.10.8 pymongo-4.3.3 pyparsing-3.0.9 rapidfuzz-3.1.1 regex-2023.6.3 rich-13.4.1 rouge-1.0.1 scikit-learn-1.2.2 scipy-1.10.1 seaborn-0.12.2 segtok-1.5.11 sentence-transformers-2.2.2 sentencepiece-0.1.99 smart-open-6.3.0 spacy-3.5.3 spacy-legacy-3.0.12 spacy-loggers-1.0.4 srsly-2.4.6 statsmodels-0.14.0 sympy-1.12 tabulate-0.9.0 textwrap3-0.9.2 thinc-8.1.10 threadpoolctl-3.1.0 tokenizers-0.13.3 torch-2.0.1 torchvision-0.15.2 tqdm-4.65.0 transformers-4.29.2 typer-0.7.0 tzdata-2023.3 wasabi-1.1.2 yake-0.4.8 yarl-1.9.2\r\n"
     ]
    }
   ],
   "source": [
    "!pip install -r requirements.txt"
   ]
  },
  {
   "cell_type": "code",
   "execution_count": 2,
   "outputs": [],
   "source": [
    "from sentence_transformers import SentenceTransformer, util\n",
    "from fuzzywuzzy import fuzz\n",
    "from Levenshtein import jaro\n",
    "import statistics\n",
    "import pymongo\n",
    "from transformers import pipeline\n",
    "import nltk\n",
    "from rouge import Rouge\n",
    "import spacy\n",
    "import pandas as pd\n",
    "import seaborn as sn\n",
    "import matplotlib.pyplot as plt\n",
    "import numpy as np\n",
    "from keybert import KeyBERT\n",
    "from multi_rake import Rake\n",
    "import yake\n",
    "import warnings\n",
    "import json\n",
    "from statsmodels.stats.multicomp import pairwise_tukeyhsd\n"
   ],
   "metadata": {
    "collapsed": false,
    "ExecuteTime": {
     "start_time": "2023-06-07T10:46:55.899394Z",
     "end_time": "2023-06-07T10:48:09.109508Z"
    }
   }
  },
  {
   "cell_type": "markdown",
   "source": [
    "# Reading the necessary Keys"
   ],
   "metadata": {
    "collapsed": false
   }
  },
  {
   "cell_type": "code",
   "execution_count": 3,
   "outputs": [],
   "source": [
    "file_path = '../keys.json'\n",
    "target_key = 'mongo_path'\n",
    "with open(file_path, 'r') as file:\n",
    "    data = json.load(file)\n",
    "cluster_path = data.get(target_key)\n",
    "if cluster_path is None:\n",
    "    print(f\"Cluster Path found\")\n"
   ],
   "metadata": {
    "collapsed": false,
    "ExecuteTime": {
     "start_time": "2023-06-07T10:48:09.110105Z",
     "end_time": "2023-06-07T10:48:09.113490Z"
    }
   }
  },
  {
   "cell_type": "markdown",
   "source": [
    "## Mongo DB Initializations"
   ],
   "metadata": {
    "collapsed": false
   }
  },
  {
   "cell_type": "code",
   "execution_count": 4,
   "outputs": [],
   "source": [
    "# Supress warnings\n",
    "warnings.filterwarnings(\"ignore\")\n",
    "\n",
    "# Establish a connection to the MongoDB cluster\n",
    "cluster = pymongo.MongoClient(cluster_path)\n",
    "\n",
    "# Connect to a specific database\n",
    "db = cluster[\"DialoKEY\"]\n",
    "\n",
    "# Read a document from a collection\n",
    "collection = db[\"logs_04\"]\n",
    "collection_cleaned = db[\"logs_cleaned_3\"]\n",
    "document = collection.find_one()"
   ],
   "metadata": {
    "collapsed": false,
    "ExecuteTime": {
     "start_time": "2023-06-07T10:48:09.114025Z",
     "end_time": "2023-06-07T10:48:09.543007Z"
    }
   }
  },
  {
   "cell_type": "markdown",
   "source": [
    "## Creating some variables\n"
   ],
   "metadata": {
    "collapsed": false
   }
  },
  {
   "cell_type": "code",
   "execution_count": 5,
   "outputs": [],
   "source": [
    "all_documents = []\n",
    "length_history = []\n",
    "\n",
    "punished_eval = {\n",
    "    \"FT - HQ\": {},\n",
    "    \"FT - CR\": {},\n",
    "    \"FT - XL\": {},\n",
    "    \"STOCK - 1\": {},\n",
    "    \"STOCK - 2\": {}\n",
    "}\n",
    "\n",
    "all_models = [\n",
    "    \"FT - HQ\",\n",
    "    \"FT - CR\",\n",
    "    \"FT - XL\",\n",
    "    \"STOCK - 1\",\n",
    "    \"STOCK - 2\"\n",
    "]\n",
    "\n",
    "different_scenarios = [\n",
    "    {\"string\": \"Question: Hello, this is Giovanni's Pizza and Pasta Restaurant, how can we help you?\",\n",
    "     \"scenario\": 1,\n",
    "     \"type\": \"defined\"},\n",
    "    {\"string\": \"Question: Hello at Cutting Edges Hairdresser, what can I do for you?\",\n",
    "     \"scenario\": 2,\n",
    "     \"type\": \"defined\"},\n",
    "    {\"string\": \"Question: Hi! Let's chat about hobbies. What is yours?\",\n",
    "     \"scenario\": 3,\n",
    "     \"type\": \"open\"},\n",
    "    {\"string\": \"Question: Welcome to the Restaurant Tikka on Wheels. How can I help you?\",\n",
    "     \"scenario\": 4,\n",
    "     \"type\": \"defined\"},\n",
    "    {\"string\": \"Question: Hello and welcome to the Wheely Great Car Repair Shop. What's wrong with your car?\",\n",
    "     \"scenario\": 5,\n",
    "     \"type\": \"open\"},\n",
    "    {\"string\": \"Question: Welcome to Dr. Peppers Medical Clinic. I am Lisa, what can I do for you?\",\n",
    "     \"scenario\": 6,\n",
    "     \"type\": \"open\"},\n",
    "    {\"string\": \"Question: This is the Mississippi online shop customer service. How can I help you?\",\n",
    "     \"scenario\": 7,\n",
    "     \"type\": \"defined\"},\n",
    "    {\"string\": \"Question: Long time no speak, how are you doing?\",\n",
    "     \"scenario\": 8,\n",
    "     \"type\": \"open\"}\n",
    "]"
   ],
   "metadata": {
    "collapsed": false,
    "ExecuteTime": {
     "start_time": "2023-06-07T10:48:09.554852Z",
     "end_time": "2023-06-07T10:48:09.561199Z"
    }
   }
  },
  {
   "cell_type": "code",
   "execution_count": 6,
   "outputs": [],
   "source": [
    "def clear_values():\n",
    "    ratings = ({\"HUMAN\": [],\n",
    "                \"BERT\": [],\n",
    "                \"FUZZ\": [],\n",
    "                \"JARO\": [],\n",
    "                \"BLEU\": [],\n",
    "                \"METEOR\": [],\n",
    "                \"ROUGE\": [],\n",
    "                \"SPACY\": []})\n",
    "\n",
    "    keywords = ({\"KeyBERT\": [],\n",
    "                 \"YAKE (Detailed)\": [],\n",
    "                 \"YAKE\": [],\n",
    "                 \"RAKE\": [],\n",
    "                 \"HUMAN\": []})\n",
    "\n",
    "    length_history = []\n",
    "\n",
    "    for model in all_models:\n",
    "        punished_eval[model][\"rating\"] = 0\n",
    "        punished_eval[model][\"rating_punished\"] = 0\n",
    "        punished_eval[model][\"amount\"] = 0\n",
    "        punished_eval[model][\"amount_punished\"] = 0\n",
    "        punished_eval[model][\"good\"] = 0\n",
    "        punished_eval[model][\"okay\"] = 0\n",
    "        punished_eval[model][\"bad\"] = 0\n",
    "        punished_eval[model][\"worst\"] = 0\n",
    "        punished_eval[model][\"perfect\"] = 0\n",
    "        punished_eval[model][\"length_answer_created\"] = 0\n",
    "        punished_eval[model][\"length_answers_human\"] = 0\n",
    "        punished_eval[model][\"length_keywords\"] = 0\n",
    "        punished_eval[model][\"FUZZ\"] = 0\n",
    "        punished_eval[model][\"JARO\"] = 0\n",
    "        punished_eval[model][\"HUB\"] = 0\n",
    "        punished_eval[model][\"BERT\"] = 0\n",
    "        punished_eval[model][\"keywords_in_creation\"] = 0\n",
    "        punished_eval[model][\"keywords_in_creation_human\"] = 0\n",
    "        punished_eval[model][\"counter_no_rating\"] = 0\n",
    "        punished_eval[model][\"ratings\"] = ratings\n",
    "        punished_eval[model][\"keywords\"] = {}\n"
   ],
   "metadata": {
    "collapsed": false,
    "ExecuteTime": {
     "start_time": "2023-06-07T10:48:09.570262Z",
     "end_time": "2023-06-07T10:48:09.585110Z"
    }
   }
  },
  {
   "cell_type": "markdown",
   "source": [
    "## Sentence Similarity"
   ],
   "metadata": {
    "collapsed": false
   }
  },
  {
   "cell_type": "markdown",
   "source": [
    "### Downloading Models"
   ],
   "metadata": {
    "collapsed": false
   }
  },
  {
   "cell_type": "code",
   "execution_count": 7,
   "outputs": [
    {
     "name": "stderr",
     "output_type": "stream",
     "text": [
      "No model was supplied, defaulted to facebook/bart-large-mnli and revision c626438 (https://huggingface.co/facebook/bart-large-mnli).\n",
      "Using a pipeline without specifying a model name and revision in production is not recommended.\n",
      "[nltk_data] Downloading package wordnet to /Users/lucas/nltk_data...\n",
      "[nltk_data]   Package wordnet is already up-to-date!\n"
     ]
    },
    {
     "name": "stdout",
     "output_type": "stream",
     "text": [
      "Collecting en-core-web-lg==3.5.0\n",
      "  Downloading https://github.com/explosion/spacy-models/releases/download/en_core_web_lg-3.5.0/en_core_web_lg-3.5.0-py3-none-any.whl (587.7 MB)\n",
      "\u001B[2K     \u001B[90m━━━━━━━━━━━━━━━━━━━━━━━━━━━━━━━━━━━━━━━\u001B[0m \u001B[32m587.7/587.7 MB\u001B[0m \u001B[31m2.8 MB/s\u001B[0m eta \u001B[36m0:00:00\u001B[0m00:01\u001B[0m00:01\u001B[0m\n",
      "\u001B[?25hRequirement already satisfied: spacy<3.6.0,>=3.5.0 in /Users/lucas/opt/miniconda3/envs/DialoKEY_Codebase/lib/python3.10/site-packages (from en-core-web-lg==3.5.0) (3.5.3)\n",
      "Requirement already satisfied: smart-open<7.0.0,>=5.2.1 in /Users/lucas/opt/miniconda3/envs/DialoKEY_Codebase/lib/python3.10/site-packages (from spacy<3.6.0,>=3.5.0->en-core-web-lg==3.5.0) (6.3.0)\n",
      "Requirement already satisfied: preshed<3.1.0,>=3.0.2 in /Users/lucas/opt/miniconda3/envs/DialoKEY_Codebase/lib/python3.10/site-packages (from spacy<3.6.0,>=3.5.0->en-core-web-lg==3.5.0) (3.0.8)\n",
      "Requirement already satisfied: pathy>=0.10.0 in /Users/lucas/opt/miniconda3/envs/DialoKEY_Codebase/lib/python3.10/site-packages (from spacy<3.6.0,>=3.5.0->en-core-web-lg==3.5.0) (0.10.1)\n",
      "Requirement already satisfied: numpy>=1.15.0 in /Users/lucas/opt/miniconda3/envs/DialoKEY_Codebase/lib/python3.10/site-packages (from spacy<3.6.0,>=3.5.0->en-core-web-lg==3.5.0) (1.24.3)\n",
      "Requirement already satisfied: langcodes<4.0.0,>=3.2.0 in /Users/lucas/opt/miniconda3/envs/DialoKEY_Codebase/lib/python3.10/site-packages (from spacy<3.6.0,>=3.5.0->en-core-web-lg==3.5.0) (3.3.0)\n",
      "Requirement already satisfied: pydantic!=1.8,!=1.8.1,<1.11.0,>=1.7.4 in /Users/lucas/opt/miniconda3/envs/DialoKEY_Codebase/lib/python3.10/site-packages (from spacy<3.6.0,>=3.5.0->en-core-web-lg==3.5.0) (1.10.8)\n",
      "Requirement already satisfied: jinja2 in /Users/lucas/opt/miniconda3/envs/DialoKEY_Codebase/lib/python3.10/site-packages (from spacy<3.6.0,>=3.5.0->en-core-web-lg==3.5.0) (3.1.2)\n",
      "Requirement already satisfied: setuptools in /Users/lucas/opt/miniconda3/envs/DialoKEY_Codebase/lib/python3.10/site-packages (from spacy<3.6.0,>=3.5.0->en-core-web-lg==3.5.0) (67.8.0)\n",
      "Requirement already satisfied: srsly<3.0.0,>=2.4.3 in /Users/lucas/opt/miniconda3/envs/DialoKEY_Codebase/lib/python3.10/site-packages (from spacy<3.6.0,>=3.5.0->en-core-web-lg==3.5.0) (2.4.6)\n",
      "Requirement already satisfied: cymem<2.1.0,>=2.0.2 in /Users/lucas/opt/miniconda3/envs/DialoKEY_Codebase/lib/python3.10/site-packages (from spacy<3.6.0,>=3.5.0->en-core-web-lg==3.5.0) (2.0.7)\n",
      "Requirement already satisfied: spacy-loggers<2.0.0,>=1.0.0 in /Users/lucas/opt/miniconda3/envs/DialoKEY_Codebase/lib/python3.10/site-packages (from spacy<3.6.0,>=3.5.0->en-core-web-lg==3.5.0) (1.0.4)\n",
      "Requirement already satisfied: wasabi<1.2.0,>=0.9.1 in /Users/lucas/opt/miniconda3/envs/DialoKEY_Codebase/lib/python3.10/site-packages (from spacy<3.6.0,>=3.5.0->en-core-web-lg==3.5.0) (1.1.2)\n",
      "Requirement already satisfied: requests<3.0.0,>=2.13.0 in /Users/lucas/opt/miniconda3/envs/DialoKEY_Codebase/lib/python3.10/site-packages (from spacy<3.6.0,>=3.5.0->en-core-web-lg==3.5.0) (2.29.0)\n",
      "Requirement already satisfied: packaging>=20.0 in /Users/lucas/opt/miniconda3/envs/DialoKEY_Codebase/lib/python3.10/site-packages (from spacy<3.6.0,>=3.5.0->en-core-web-lg==3.5.0) (23.0)\n",
      "Requirement already satisfied: tqdm<5.0.0,>=4.38.0 in /Users/lucas/opt/miniconda3/envs/DialoKEY_Codebase/lib/python3.10/site-packages (from spacy<3.6.0,>=3.5.0->en-core-web-lg==3.5.0) (4.65.0)\n",
      "Requirement already satisfied: catalogue<2.1.0,>=2.0.6 in /Users/lucas/opt/miniconda3/envs/DialoKEY_Codebase/lib/python3.10/site-packages (from spacy<3.6.0,>=3.5.0->en-core-web-lg==3.5.0) (2.0.8)\n",
      "Requirement already satisfied: murmurhash<1.1.0,>=0.28.0 in /Users/lucas/opt/miniconda3/envs/DialoKEY_Codebase/lib/python3.10/site-packages (from spacy<3.6.0,>=3.5.0->en-core-web-lg==3.5.0) (1.0.9)\n",
      "Requirement already satisfied: typer<0.8.0,>=0.3.0 in /Users/lucas/opt/miniconda3/envs/DialoKEY_Codebase/lib/python3.10/site-packages (from spacy<3.6.0,>=3.5.0->en-core-web-lg==3.5.0) (0.7.0)\n",
      "Requirement already satisfied: spacy-legacy<3.1.0,>=3.0.11 in /Users/lucas/opt/miniconda3/envs/DialoKEY_Codebase/lib/python3.10/site-packages (from spacy<3.6.0,>=3.5.0->en-core-web-lg==3.5.0) (3.0.12)\n",
      "Requirement already satisfied: thinc<8.2.0,>=8.1.8 in /Users/lucas/opt/miniconda3/envs/DialoKEY_Codebase/lib/python3.10/site-packages (from spacy<3.6.0,>=3.5.0->en-core-web-lg==3.5.0) (8.1.10)\n",
      "Requirement already satisfied: typing-extensions>=4.2.0 in /Users/lucas/opt/miniconda3/envs/DialoKEY_Codebase/lib/python3.10/site-packages (from pydantic!=1.8,!=1.8.1,<1.11.0,>=1.7.4->spacy<3.6.0,>=3.5.0->en-core-web-lg==3.5.0) (4.5.0)\n",
      "Requirement already satisfied: urllib3<1.27,>=1.21.1 in /Users/lucas/opt/miniconda3/envs/DialoKEY_Codebase/lib/python3.10/site-packages (from requests<3.0.0,>=2.13.0->spacy<3.6.0,>=3.5.0->en-core-web-lg==3.5.0) (1.26.15)\n",
      "Requirement already satisfied: charset-normalizer<4,>=2 in /Users/lucas/opt/miniconda3/envs/DialoKEY_Codebase/lib/python3.10/site-packages (from requests<3.0.0,>=2.13.0->spacy<3.6.0,>=3.5.0->en-core-web-lg==3.5.0) (2.0.4)\n",
      "Requirement already satisfied: certifi>=2017.4.17 in /Users/lucas/opt/miniconda3/envs/DialoKEY_Codebase/lib/python3.10/site-packages (from requests<3.0.0,>=2.13.0->spacy<3.6.0,>=3.5.0->en-core-web-lg==3.5.0) (2023.5.7)\n",
      "Requirement already satisfied: idna<4,>=2.5 in /Users/lucas/opt/miniconda3/envs/DialoKEY_Codebase/lib/python3.10/site-packages (from requests<3.0.0,>=2.13.0->spacy<3.6.0,>=3.5.0->en-core-web-lg==3.5.0) (3.4)\n",
      "Requirement already satisfied: blis<0.8.0,>=0.7.8 in /Users/lucas/opt/miniconda3/envs/DialoKEY_Codebase/lib/python3.10/site-packages (from thinc<8.2.0,>=8.1.8->spacy<3.6.0,>=3.5.0->en-core-web-lg==3.5.0) (0.7.9)\n",
      "Requirement already satisfied: confection<1.0.0,>=0.0.1 in /Users/lucas/opt/miniconda3/envs/DialoKEY_Codebase/lib/python3.10/site-packages (from thinc<8.2.0,>=8.1.8->spacy<3.6.0,>=3.5.0->en-core-web-lg==3.5.0) (0.0.4)\n",
      "Requirement already satisfied: click<9.0.0,>=7.1.1 in /Users/lucas/opt/miniconda3/envs/DialoKEY_Codebase/lib/python3.10/site-packages (from typer<0.8.0,>=0.3.0->spacy<3.6.0,>=3.5.0->en-core-web-lg==3.5.0) (8.1.3)\n",
      "Requirement already satisfied: MarkupSafe>=2.0 in /Users/lucas/opt/miniconda3/envs/DialoKEY_Codebase/lib/python3.10/site-packages (from jinja2->spacy<3.6.0,>=3.5.0->en-core-web-lg==3.5.0) (2.1.1)\n",
      "Installing collected packages: en-core-web-lg\n",
      "Successfully installed en-core-web-lg-3.5.0\n",
      "\u001B[38;5;2m✔ Download and installation successful\u001B[0m\n",
      "You can now load the package via spacy.load('en_core_web_lg')\n"
     ]
    }
   ],
   "source": [
    "# Initializing the models\n",
    "model_bert = SentenceTransformer('all-MiniLM-L6-v2')\n",
    "classifier = pipeline(\"zero-shot-classification\")\n",
    "nltk.download('wordnet')\n",
    "spacy.cli.download(\"en_core_web_lg\")\n",
    "nlp = spacy.load('en_core_web_lg')\n",
    "kw_model = KeyBERT(model='all-mpnet-base-v2')"
   ],
   "metadata": {
    "collapsed": false,
    "ExecuteTime": {
     "start_time": "2023-06-07T10:48:09.577256Z",
     "end_time": "2023-06-07T10:48:50.586551Z"
    }
   }
  },
  {
   "cell_type": "markdown",
   "source": [
    "### Defining a function for all similarity tools"
   ],
   "metadata": {
    "collapsed": false
   }
  },
  {
   "cell_type": "code",
   "execution_count": 8,
   "outputs": [],
   "source": [
    "def sentence_comparison(sent1, sent2, bool):\n",
    "    # Embeddings\n",
    "    sent1 = sent1.lower()\n",
    "    sent2 = sent2.lower()\n",
    "    em_1 = model_bert.encode(sent1)\n",
    "    em_2 = model_bert.encode(sent2)\n",
    "\n",
    "    # COSINE SIMILARIY Scores\n",
    "    sim_bert = util.cos_sim(em_1, em_2).item()\n",
    "    sim_fuzz = fuzz.ratio(sent1, sent2)\n",
    "    sim_jaro = jaro(sent1, sent2)\n",
    "\n",
    "    # Image Captioning / Translation Scores\n",
    "    reference = sent1.split()\n",
    "    hypothesis = sent2.split()\n",
    "    sim_bleu = nltk.translate.bleu_score.sentence_bleu([reference], hypothesis, weights=(1, 0, 0, 0))\n",
    "    sim_meteor = nltk.translate.meteor_score.meteor_score([reference], hypothesis)\n",
    "    rouge = Rouge()\n",
    "    if sent2 == \"\" or sent1 == \"\":\n",
    "        sim_rouge = 0\n",
    "    else:\n",
    "        sim_rouge = rouge.get_scores(sent1, sent2)[0]['rouge-1']['f']\n",
    "    sim_spacy = nlp(sent1).similarity(nlp(sent2))\n",
    "\n",
    "    # Check if keywords should be compared or sentences\n",
    "    if not bool:\n",
    "        scores = ({\"BERT\": sim_bert,\n",
    "                   \"FUZZ\": sim_fuzz / 100,\n",
    "                   \"JARO\": sim_jaro,\n",
    "                   \"BLEU\": sim_bleu,\n",
    "                   \"METEOR\": sim_meteor,\n",
    "                   \"ROUGE\": sim_rouge,\n",
    "                   \"SPACY\": sim_spacy})\n",
    "        return scores\n",
    "    else:\n",
    "        keywords_given = sent1\n",
    "        keywords_created = sent2\n",
    "        created_in_given = 0\n",
    "        given_in_created = 0\n",
    "        for keywords in keywords_created.split():\n",
    "            if keywords.lower() in keywords_given.lower().split():\n",
    "                created_in_given += 1\n",
    "\n",
    "        for keywords in keywords_given.split():\n",
    "            if keywords.lower() in keywords_created.lower().split():\n",
    "                given_in_created += 1\n",
    "\n",
    "        if keywords_given == \"\" or keywords_created == \"\":\n",
    "            score_classifier_given_created = 0\n",
    "            score_classifier_created_given = 0\n",
    "        else:\n",
    "            results_score_classifier_given_created = classifier(keywords_given, keywords_created, multi_label=True)\n",
    "            results_score_classifier_created_given = classifier(keywords_created, keywords_given, multi_label=True)\n",
    "            score_classifier_created_given = statistics.mean(results_score_classifier_created_given['scores'])\n",
    "            score_classifier_given_created = statistics.mean(results_score_classifier_given_created['scores'])\n",
    "\n",
    "        if len(keywords_created.split()) == 0:\n",
    "            score_created_in_given = 0\n",
    "        else:\n",
    "            score_created_in_given = created_in_given / len(keywords_created.split())\n",
    "\n",
    "        if len(keywords_given.split()) == 0:\n",
    "            score_given_in_created = 0\n",
    "        else:\n",
    "            score_given_in_created = given_in_created / len(keywords_given.split())\n",
    "\n",
    "        scores = ({\n",
    "            \"score_created_in_given\": score_created_in_given,\n",
    "            \"score_given_in_created\": score_given_in_created,\n",
    "            \"score_classifier_created_given\": score_classifier_created_given,\n",
    "            \"score_classifier_given_created\": score_classifier_given_created,\n",
    "            \"BERT\": sim_bert,\n",
    "            \"FUZZ\": sim_fuzz / 100,\n",
    "            \"JARO\": sim_jaro,\n",
    "            \"BLEU\": sim_bleu,\n",
    "            \"METEOR\": sim_meteor,\n",
    "            \"ROUGE\": sim_rouge,\n",
    "            \"SPACY\": sim_spacy\n",
    "        })\n",
    "        return scores"
   ],
   "metadata": {
    "collapsed": false,
    "ExecuteTime": {
     "start_time": "2023-06-07T10:48:50.595944Z",
     "end_time": "2023-06-07T10:48:50.598681Z"
    }
   }
  },
  {
   "cell_type": "code",
   "execution_count": 9,
   "outputs": [],
   "source": [
    "# Topic Analysis via Zero Short Learning\n",
    "def keywords_in_creation(sentence, keywords):\n",
    "    results = classifier(sentence, keywords, multi_label=True)\n",
    "    return statistics.mean(results['scores'])\n"
   ],
   "metadata": {
    "collapsed": false,
    "ExecuteTime": {
     "start_time": "2023-06-07T10:48:50.600301Z",
     "end_time": "2023-06-07T10:48:50.604638Z"
    }
   }
  },
  {
   "cell_type": "markdown",
   "source": [
    "# Keyword Extraction"
   ],
   "metadata": {
    "collapsed": false
   }
  },
  {
   "cell_type": "code",
   "execution_count": 10,
   "outputs": [],
   "source": [
    "def kw_yake(text):\n",
    "    language = \"en\"\n",
    "    max_ngram_size = 1\n",
    "    deduplication_threshold = 0.9\n",
    "    numOfKeywords = 10\n",
    "    custom_kw_extractor = yake.KeywordExtractor(lan=language, n=max_ngram_size, dedupLim=deduplication_threshold,\n",
    "                                                top=numOfKeywords, features=None)\n",
    "    keywords = custom_kw_extractor.extract_keywords(text)\n",
    "    keywords_str = \"\"\n",
    "    for index, keyword in enumerate(keywords):\n",
    "        if index == len(keywords) - 1:\n",
    "            keywords_str += f\"{keyword[0]}\"\n",
    "        else:\n",
    "            keywords_str += f\"{keyword[0]} \"\n",
    "    return keywords_str\n",
    "\n",
    "\n",
    "def kw_yake_detailed(text):\n",
    "    language = \"en\"\n",
    "    max_ngram_size = 5\n",
    "    deduplication_threshold = 0.0\n",
    "    numOfKeywords = 10\n",
    "    custom_kw_extractor = yake.KeywordExtractor(lan=language, n=max_ngram_size, dedupLim=deduplication_threshold,\n",
    "                                                top=numOfKeywords, features=None)\n",
    "    keywords = custom_kw_extractor.extract_keywords(text)\n",
    "    keywords_str = \"\"\n",
    "    for index, keyword in enumerate(keywords):\n",
    "        if index == len(keywords) - 1:\n",
    "            keywords_str += f\"{keyword[0]}\"\n",
    "        else:\n",
    "            keywords_str += f\"{keyword[0]} \"\n",
    "    return keywords_str\n",
    "\n",
    "\n",
    "def kw_rake(text):\n",
    "    rake = Rake()\n",
    "    keywords = rake.apply(text)\n",
    "    keywords_str = \"\"\n",
    "    for index, keyword in enumerate(keywords):\n",
    "        if index == len(keywords) - 1:\n",
    "            keywords_str += f\"{keyword[0]}\"\n",
    "        else:\n",
    "            keywords_str += f\"{keyword[0]} \"\n",
    "    return (keywords_str)\n",
    "\n",
    "\n",
    "def kw_keybert(text):\n",
    "    keywords = kw_model.extract_keywords(\n",
    "        text,\n",
    "        keyphrase_ngram_range=(1, 7),\n",
    "        stop_words='english',\n",
    "        highlight=False,\n",
    "        top_n=1)\n",
    "    keywords_list = list(dict(keywords).keys())\n",
    "    if not keywords_list:\n",
    "        return \"\"\n",
    "    return (keywords_list[0])\n",
    "\n",
    "\n",
    "def keyword_extractors(text):\n",
    "    keywords = [\n",
    "        {\"model\": \"KeyBERT\",\n",
    "         \"kws\": kw_keybert(text)},\n",
    "        {\"model\": \"YAKE\",\n",
    "         \"kws\": kw_yake(text)},\n",
    "        {\"model\": \"YAKE (Detailed)\",\n",
    "         \"kws\": kw_yake_detailed(text)},\n",
    "        {\"model\": \"RAKE\",\n",
    "         \"kws\": \"kw_rake(text)\"}\n",
    "    ]\n",
    "    return keywords"
   ],
   "metadata": {
    "collapsed": false,
    "ExecuteTime": {
     "start_time": "2023-06-07T10:48:50.611263Z",
     "end_time": "2023-06-07T10:48:50.618967Z"
    }
   }
  },
  {
   "cell_type": "markdown",
   "source": [
    "# Collecting data from mongodb and inserting evaluation metrics"
   ],
   "metadata": {
    "collapsed": false
   }
  },
  {
   "cell_type": "code",
   "execution_count": 11,
   "outputs": [],
   "source": [
    "cursor3 = collection_cleaned.find({})\n",
    "length = len(list(cursor3.clone()))\n",
    "clear_values()\n",
    "# Handled with care, code takes approximately 1-2h to run\n",
    "# The data must be cleaned before with the cleaning_data code\n",
    "read_new_data = False\n",
    "\n",
    "if read_new_data:\n",
    "    # Iterating over database documents\n",
    "    for count, document in enumerate(cursor3):\n",
    "        print(f\"STATUS: {float(((count + 1) / length) * 100)} %\")\n",
    "\n",
    "        # If no status message\n",
    "        if \"final_code\" not in document:\n",
    "            for i in different_scenarios:\n",
    "                if i['string'] in document['Question']:\n",
    "                    collection_cleaned.update_many({'_id': document['_id']}, {\"$set\": {'eval_scenario': i}}, True)\n",
    "                    break\n",
    "\n",
    "            # Check if the document is an answer\n",
    "            if document['User Flag'] == \"\":\n",
    "                punished_eval[document['Chosen Model']]['counter_no_rating'] += 1\n",
    "                keywords = document['Keyword (human)'].split()\n",
    "                answer_human = document['Answers']['Human Answer']\n",
    "                answer_created = document['Answers']['Answer Created']\n",
    "                keywords_raw = document['Keyword (human)']\n",
    "\n",
    "                length_keywords = len(keywords)\n",
    "                length_answer_created = len(answer_created.split())\n",
    "                length_answers_human = len(answer_human.split())\n",
    "\n",
    "                # Check if a valid answer was entered by the human\n",
    "                if length_keywords > length_answers_human:\n",
    "                    print(\"+++ Skipped File, Answer was Empty or shorter than kws+++\")\n",
    "                    continue\n",
    "\n",
    "                # Evaluation of keywords and sentences\n",
    "                eval_length = {\n",
    "                    \"length_human_answer\": len(answer_human.split()),\n",
    "                    \"length_created_answer\": len(answer_created.split()),\n",
    "                    \"length_keywords\": len(keywords),\n",
    "                }\n",
    "                collection_cleaned.update_many({'_id': document['_id']}, {\"$set\": {'eval_length': eval_length}}, True)\n",
    "\n",
    "                # Keywords in Creation\n",
    "                eval_keywords_in_creation = {}\n",
    "                eval_keywords_in_creation['keywords_in_creation'] = keywords_in_creation(answer_created, keywords)\n",
    "                eval_keywords_in_creation['keywords_in_creation_human'] = keywords_in_creation(answer_human, keywords)\n",
    "                collection_cleaned.update_many({'_id': document['_id']},\n",
    "                                               {\"$set\": {'eval_keywords_in_creation': eval_keywords_in_creation}}, True)\n",
    "\n",
    "                # Keyword Comparison\n",
    "                answer_cleaned = answer_human.replace(\"\\\"\", \"\").replace(\"’\", \"'\").replace(\"–\", \"-\").replace(\"“\",\n",
    "                                                                                                            \"\\\"\").replace(\n",
    "                    \" \", \" \").replace(\"“\", \"\\n\").replace(\"é\", \"é\").replace(\"  \", \" \").replace(\"…\", \"...\").replace(\"‘\",\n",
    "                                                                                                                  \"'\").replace(\n",
    "                    \"é\", \"é\")\n",
    "                keywords_to_insert = keyword_extractors(str(answer_cleaned))\n",
    "                keywords_to_insert.append({\"model\": \"HUMAN\",\n",
    "                                           \"kws\": keywords_raw})\n",
    "                for x in keywords_to_insert:\n",
    "                    x['ratings'] = sentence_comparison(keywords_raw, x['kws'], True)\n",
    "                collection_cleaned.update_many({'_id': document['_id']},\n",
    "                                               {\"$set\": {'eval_different_keywords': keywords_to_insert}}, True)\n",
    "            # Document is rating\n",
    "            elif \"Perfect\" in document['User Flag']:\n",
    "                answer_human = document['Answers']['Human Answer']\n",
    "                answer_created = document['Answers']['Answer Created']\n",
    "                similarity_scores = sentence_comparison(answer_created, answer_human, False)\n",
    "                similarity_scores['HUMAN'] = 5\n",
    "                similarity_scores['HUMAN (Punished)'] = 5\n",
    "                collection_cleaned.update_many({'_id': document['_id']},\n",
    "                                               {\"$set\": {'eval_similarity': similarity_scores}},\n",
    "                                               True)\n",
    "                collection_cleaned.update_many({'_id': document['_id']},\n",
    "                                               {\"$set\": {'eval_similarity': similarity_scores}},\n",
    "                                               True)\n",
    "            else: # Rating is not perfect\n",
    "                punishment = 1\n",
    "                rating = 0\n",
    "                if not document['User Flag Detailed']:\n",
    "                    continue\n",
    "\n",
    "                if \"Slightly\" in document['User Flag Detailed']:\n",
    "                    punishment = 1\n",
    "                    detailed_rating = 1\n",
    "                elif \"brief\" in document['User Flag Detailed']:\n",
    "                    punishment = 0.9\n",
    "                    detailed_rating = 2\n",
    "                elif \"Missed\" in document['User Flag Detailed']:\n",
    "                    punishment = (2 / 3)\n",
    "                    detailed_rating = 3\n",
    "                elif \"Added\" in document['User Flag Detailed']:\n",
    "                    punishment = 0.5\n",
    "                    detailed_rating = 4\n",
    "                elif \"Wrong\" in document['User Flag Detailed']:\n",
    "                    punishment = 0.25\n",
    "                    detailed_rating = 5\n",
    "                elif \"Totally\" in document['User Flag Detailed']:\n",
    "                    punishment = 0.1\n",
    "                    detailed_rating = 6\n",
    "\n",
    "                if \"Good\" in document['User Flag']:\n",
    "                    punished_eval[document['Chosen Model']]['good'] += 1\n",
    "                    rating = 4\n",
    "                    punished_rating = punishment * rating\n",
    "                elif \"Bad\" in document['User Flag']:\n",
    "                    punished_eval[document['Chosen Model']]['bad'] += 1\n",
    "                    rating = 2\n",
    "                    punished_rating = punishment * rating\n",
    "                elif \"Wrong\" in document['User Flag']:\n",
    "                    punished_eval[document['Chosen Model']]['worst'] += 1\n",
    "                    rating = 1\n",
    "                    punished_rating = punishment * rating\n",
    "                else:\n",
    "                    punished_eval[document['Chosen Model']]['okay'] += 1\n",
    "                    rating = 3\n",
    "                    punished_rating = punishment * rating\n",
    "\n",
    "                answer_human = document['Answers']['Human Answer']\n",
    "                answer_created = document['Answers']['Answer Created']\n",
    "                similarity_scores = sentence_comparison(answer_created, answer_human, False)\n",
    "                similarity_scores['HUMAN'] = rating\n",
    "                similarity_scores['HUMAN (Punished)'] = punished_rating\n",
    "                similarity_scores['HUMAN (Detailed)'] = detailed_rating\n",
    "                collection_cleaned.update_many({'_id': document['_id']},\n",
    "                                               {\"$set\": {'eval_similarity': similarity_scores}},\n",
    "                                               True)\n"
   ],
   "metadata": {
    "collapsed": false,
    "ExecuteTime": {
     "start_time": "2023-06-07T10:48:50.614905Z",
     "end_time": "2023-06-07T10:48:51.001277Z"
    }
   }
  },
  {
   "cell_type": "markdown",
   "source": [
    "# Reading the metrics of the cleaned db"
   ],
   "metadata": {
    "collapsed": false
   }
  },
  {
   "cell_type": "code",
   "execution_count": 12,
   "outputs": [
    {
     "name": "stdout",
     "output_type": "stream",
     "text": [
      "+++ Skipped File, Answer was Empty or shorter than kws+++\n",
      "+++ Skipped File, Answer was Empty or shorter than kws+++\n",
      "+++ Skipped File, Answer was Empty or shorter than kws+++\n",
      "+++ Skipped File, Answer was Empty or shorter than kws+++\n",
      "+++ Skipped File, Answer was Empty or shorter than kws+++\n",
      "+++ Skipped File, Answer was Empty or shorter than kws+++\n"
     ]
    }
   ],
   "source": [
    "# The evaluation metrics need to be inserted if new data is added\n",
    "# Otherwise lots of the parameters lead to an error since they are not available in the data\n",
    "cursor4 = collection_cleaned.find({})\n",
    "\n",
    "# Creating all variables for all evaluation scores\n",
    "# This section is very specific to the datastructure of the saved elements\n",
    "all_classifiers = [\"score_created_in_given\",\n",
    "                   \"score_given_in_created\",\n",
    "                   \"score_classifier_created_given\",\n",
    "                   \"score_classifier_given_created\",\n",
    "                   \"BERT\",\n",
    "                   \"FUZZ\",\n",
    "                   \"JARO\",\n",
    "                   \"BLEU\",\n",
    "                   \"METEOR\",\n",
    "                   \"ROUGE\",\n",
    "                   \"SPACY\"\n",
    "                   ]\n",
    "\n",
    "all_keyword_methods = [\"KeyBERT\", \"YAKE\", \"YAKE (Detailed)\", \"HUMAN\"]\n",
    "\n",
    "keywords_eval = ({\"KeyBERT\": {},\n",
    "                  \"YAKE\": {},\n",
    "                  \"YAKE (Detailed)\": {},\n",
    "                  \"HUMAN\": {}})\n",
    "for classifiers in all_classifiers:\n",
    "    for keyword_method in all_keyword_methods:\n",
    "        keywords_eval[keyword_method][classifiers] = []\n",
    "\n",
    "eval_length_inside = [\"length_human_answer\",\n",
    "                      \"length_created_answer\",\n",
    "                      \"length_difference\",\n",
    "                      \"length_keywords\"]\n",
    "\n",
    "eval_length = {}\n",
    "for model in all_models:\n",
    "    eval_length[model] = {}\n",
    "    for eval in eval_length_inside:\n",
    "        eval_length[model][eval] = []\n",
    "\n",
    "eval_keywords_in_creation_inside = [\n",
    "    \"keywords_in_creation\",\n",
    "    \"keywords_in_creation_human\"\n",
    "]\n",
    "eval_keywords_in_creation = {}\n",
    "for model in all_models:\n",
    "    eval_keywords_in_creation[model] = {}\n",
    "    for eval in eval_keywords_in_creation_inside:\n",
    "        eval_keywords_in_creation[model][eval] = []\n",
    "\n",
    "eval_runtime = {}\n",
    "for model in all_models:\n",
    "    eval_runtime[model] = []\n",
    "\n",
    "evaluation_answer = {\n",
    "    'keywords_eval': keywords_eval\n",
    "}\n",
    "\n",
    "ratings = [\"HUMAN\",\n",
    "           \"HUMAN (Punished)\",\n",
    "           \"BERT\",\n",
    "           \"FUZZ\",\n",
    "           \"JARO\",\n",
    "           \"BLEU\",\n",
    "           \"METEOR\",\n",
    "           \"ROUGE\",\n",
    "           \"SPACY\"]\n",
    "\n",
    "similarity_scores = {}\n",
    "for model in all_models:\n",
    "    similarity_scores[model] = {}\n",
    "    for rate in ratings:\n",
    "        similarity_scores[model][rate] = []\n",
    "\n",
    "similarity_scores_all_models = {}\n",
    "for rate in ratings:\n",
    "    similarity_scores_all_models[rate] = []\n",
    "\n",
    "detailed = {}\n",
    "for model in all_models:\n",
    "    similarity_scores[model] = {}\n",
    "    for rate in ratings:\n",
    "        similarity_scores[model][rate] = []\n",
    "\n",
    "similarity_scores_perfect = {}\n",
    "for rate in ratings:\n",
    "    similarity_scores_perfect[rate] = []\n",
    "\n",
    "ratings2 = [\"HUMAN\",\n",
    "            \"HUMAN (Punished)\"]\n",
    "\n",
    "different_lengths = [\"2\",\n",
    "                     \"4\",\n",
    "                     \"6\",\n",
    "                     \"8\"]\n",
    "\n",
    "length_compared_to_scores = {}\n",
    "for model in all_models:\n",
    "    length_compared_to_scores[model] = {}\n",
    "    for length in different_lengths:\n",
    "        length_compared_to_scores[model][length] = {}\n",
    "        for rate in ratings2:\n",
    "            length_compared_to_scores[model][length][rate] = []\n",
    "\n",
    "number_of_keywords = [\"0\",\n",
    "                      \"1\",\n",
    "                      \"2\",\n",
    "                      \"3\",\n",
    "                      \"4\",\n",
    "                      \"5\"\n",
    "                      ]\n",
    "\n",
    "rating_compared_to_amount_keywords = {}\n",
    "for model in all_models:\n",
    "    rating_compared_to_amount_keywords[model] = {}\n",
    "    for length in number_of_keywords:\n",
    "        rating_compared_to_amount_keywords[model][length] = {}\n",
    "        for rate in ratings2:\n",
    "            rating_compared_to_amount_keywords[model][length][rate] = []\n",
    "\n",
    "different_scenario_numbers = [\"1\",\n",
    "                              \"2\",\n",
    "                              \"3\",\n",
    "                              \"4\",\n",
    "                              \"5\",\n",
    "                              \"6\",\n",
    "                              \"7\",\n",
    "                              \"8\"\n",
    "                              ]\n",
    "\n",
    "rating_compared_scenarios_all = {}\n",
    "for model in all_models:\n",
    "    rating_compared_scenarios_all[model] = {}\n",
    "    for number in different_scenario_numbers:\n",
    "        rating_compared_scenarios_all[model][number] = {}\n",
    "        for rate in ratings2:\n",
    "            rating_compared_scenarios_all[model][number][rate] = []\n",
    "\n",
    "different_scenario_type = [\"open\",\n",
    "                           \"defined\"\n",
    "                           ]\n",
    "\n",
    "rating_compared_scenarios_open_closed = {}\n",
    "for model in all_models:\n",
    "    rating_compared_scenarios_open_closed[model] = {}\n",
    "    for scenario_type in different_scenario_type:\n",
    "        rating_compared_scenarios_open_closed[model][scenario_type] = {}\n",
    "        for rate in ratings2:\n",
    "            rating_compared_scenarios_open_closed[model][scenario_type][rate] = []\n",
    "\n",
    "rating_in_numbers = [\"1\",\n",
    "                     \"2\",\n",
    "                     \"3\",\n",
    "                     \"4\",\n",
    "                     \"5\"\n",
    "                     ]\n",
    "\n",
    "rating_compared_detailed_rating = {}\n",
    "for model in all_models:\n",
    "    rating_compared_detailed_rating[model] = {}\n",
    "    for number in rating_in_numbers:\n",
    "        rating_compared_detailed_rating[model][number] = []\n",
    "\n",
    "detailed_ratings_per_model = {}\n",
    "for model in all_models:\n",
    "    detailed_ratings_per_model[model] = []\n",
    "\n",
    "length_of_prompts = {}\n",
    "for model in all_models:\n",
    "    length_of_prompts[model] = []\n",
    "\n",
    "# Prompt length\n",
    "prompts_of_models = {\n",
    "    \"FT - HQ\": \"\",\n",
    "    \"FT - CR\": \"\",\n",
    "    \"FT - XL\": \"\",\n",
    "    \"STOCK - 1\": \"Create an answer based on the given keywords and the question:\",\n",
    "    \"STOCK - 2\": \"The following is a telephone conversation. Write one sentence as the next response using the keywords: {keyword}. Do not any additional details.\"\n",
    "}\n",
    "\n",
    "#Latency\n",
    "latency = {}\n",
    "for model in all_models:\n",
    "    latency[model] = []\n",
    "\n",
    "# Iterating over the cleaned database including all evaluation elements\n",
    "for count, document in enumerate(cursor4):\n",
    "    # Answer\n",
    "    if document['User Flag'] == \"\":\n",
    "        keywords = document['Keyword (human)'].split()\n",
    "        answer_human = document['Answers']['Human Answer']\n",
    "        answer_created = document['Answers']['Answer Created']\n",
    "        keywords_raw = document['Keyword (human)']\n",
    "\n",
    "        length_keywords = len(keywords)\n",
    "        length_answer_created = len(answer_created.split())\n",
    "        length_answers_human = len(answer_human.split())\n",
    "\n",
    "        if length_keywords > length_answers_human:\n",
    "            print(\"+++ Skipped File, Answer was Empty or shorter than kws+++\")\n",
    "            continue\n",
    "        eval_length[document['Chosen Model']]['length_human_answer'].append(\n",
    "            document['eval_length']['length_human_answer'])\n",
    "        eval_length[document['Chosen Model']]['length_created_answer'].append(\n",
    "            document['eval_length']['length_created_answer'])\n",
    "        eval_length[document['Chosen Model']]['length_keywords'].append(document['eval_length']['length_keywords'])\n",
    "        eval_keywords_in_creation[document['Chosen Model']]['keywords_in_creation'].append(\n",
    "            document['eval_keywords_in_creation']['keywords_in_creation'])\n",
    "        eval_keywords_in_creation[document['Chosen Model']]['keywords_in_creation_human'].append(\n",
    "            document['eval_keywords_in_creation']['keywords_in_creation_human'])\n",
    "\n",
    "        eval_runtime[document['Chosen Model']].append(document['Runtime'])\n",
    "\n",
    "        list_of_strings = document['Question']\n",
    "\n",
    "        combined_string = \"\"\n",
    "        for word in list_of_strings:\n",
    "            combined_string += word + \" \"\n",
    "        combined_string += document['Keyword (human)']\n",
    "        combined_string += prompts_of_models[document['Chosen Model']]\n",
    "        # remove the extra space\n",
    "        combined_string = combined_string.strip()\n",
    "\n",
    "        # count the words in the combined string\n",
    "        word_count = len(combined_string.split())\n",
    "        length_of_prompts[document['Chosen Model']].append(word_count)\n",
    "\n",
    "        # Keyword Evaluation\n",
    "        if not 'eval_different_keywords' in document:\n",
    "            break\n",
    "        for o in document['eval_different_keywords']:\n",
    "            if o['model'] == 'RAKE':\n",
    "                continue\n",
    "\n",
    "            for classifier in all_classifiers:\n",
    "                keywords_eval[o['model']][classifier].append(o['ratings'][classifier])\n",
    "    # Question\n",
    "    else:\n",
    "        if len(document['Keyword (human)'].split()) > 4:\n",
    "            position = '5'\n",
    "        else:\n",
    "            position = str(len(document['Keyword (human)'].split()))\n",
    "        rating_compared_to_amount_keywords[document['Chosen Model']][position]['HUMAN'].append(\n",
    "            document['eval_similarity']['HUMAN'])\n",
    "        rating_compared_to_amount_keywords[document['Chosen Model']][position]['HUMAN (Punished)'].append(\n",
    "            document['eval_similarity']['HUMAN (Punished)'])\n",
    "        length_compared_to_scores[document['Chosen Model']][str(len(document['Question']))]['HUMAN'].append(\n",
    "            document['eval_similarity']['HUMAN'])\n",
    "        length_compared_to_scores[document['Chosen Model']][str(len(document['Question']))]['HUMAN (Punished)'].append(\n",
    "            document['eval_similarity']['HUMAN (Punished)'])\n",
    "        rating_compared_scenarios_open_closed[document['Chosen Model']][document['eval_scenario']['type']][\n",
    "            'HUMAN'].append(document['eval_similarity']['HUMAN'])\n",
    "        rating_compared_scenarios_open_closed[document['Chosen Model']][document['eval_scenario']['type']][\n",
    "            'HUMAN (Punished)'].append(document['eval_similarity']['HUMAN (Punished)'])\n",
    "        rating_compared_scenarios_all[document['Chosen Model']][str(document['eval_scenario']['scenario'])][\n",
    "            'HUMAN'].append(document['eval_similarity']['HUMAN'])\n",
    "        rating_compared_scenarios_all[document['Chosen Model']][str(document['eval_scenario']['scenario'])][\n",
    "            'HUMAN (Punished)'].append(document['eval_similarity']['HUMAN (Punished)'])\n",
    "        if not document['eval_similarity']['HUMAN'] == 5:\n",
    "            rating_compared_detailed_rating[document['Chosen Model']][str(document['eval_similarity']['HUMAN'])].append(\n",
    "                document['eval_similarity']['HUMAN (Detailed)'])\n",
    "            detailed_ratings_per_model[document['Chosen Model']].append(document['eval_similarity']['HUMAN (Detailed)'])\n",
    "        for rate in ratings:\n",
    "            similarity_scores_all_models[rate].append(document['eval_similarity'][rate])\n",
    "            similarity_scores[document['Chosen Model']][rate].append(document['eval_similarity'][rate])\n",
    "\n",
    "        # Only collect perfect ratings\n",
    "        if document['eval_similarity']['HUMAN'] == 5:\n",
    "            for rate in ratings:\n",
    "                similarity_scores_perfect[rate].append(document['eval_similarity'][rate])\n",
    "\n"
   ],
   "metadata": {
    "collapsed": false,
    "ExecuteTime": {
     "start_time": "2023-06-07T10:48:50.999399Z",
     "end_time": "2023-06-07T10:48:51.437959Z"
    }
   }
  },
  {
   "cell_type": "markdown",
   "source": [
    "# Printing evaluation data"
   ],
   "metadata": {
    "collapsed": false
   }
  },
  {
   "cell_type": "markdown",
   "source": [
    "## Human Rating Evaluation"
   ],
   "metadata": {
    "collapsed": false
   }
  },
  {
   "cell_type": "code",
   "execution_count": 13,
   "outputs": [
    {
     "data": {
      "text/plain": "                    0        1        2          3          4\nModel         FT - HQ  FT - CR  FT - XL  STOCK - 1  STOCK - 2\nRating (Avg)   4.6217   4.3868   4.3017     4.0913     4.3691\nRating (Dev)    0.687   0.9784   1.0246     1.1972     1.0219",
      "text/html": "<div>\n<style scoped>\n    .dataframe tbody tr th:only-of-type {\n        vertical-align: middle;\n    }\n\n    .dataframe tbody tr th {\n        vertical-align: top;\n    }\n\n    .dataframe thead th {\n        text-align: right;\n    }\n</style>\n<table border=\"1\" class=\"dataframe\">\n  <thead>\n    <tr style=\"text-align: right;\">\n      <th></th>\n      <th>0</th>\n      <th>1</th>\n      <th>2</th>\n      <th>3</th>\n      <th>4</th>\n    </tr>\n  </thead>\n  <tbody>\n    <tr>\n      <th>Model</th>\n      <td>FT - HQ</td>\n      <td>FT - CR</td>\n      <td>FT - XL</td>\n      <td>STOCK - 1</td>\n      <td>STOCK - 2</td>\n    </tr>\n    <tr>\n      <th>Rating (Avg)</th>\n      <td>4.6217</td>\n      <td>4.3868</td>\n      <td>4.3017</td>\n      <td>4.0913</td>\n      <td>4.3691</td>\n    </tr>\n    <tr>\n      <th>Rating (Dev)</th>\n      <td>0.687</td>\n      <td>0.9784</td>\n      <td>1.0246</td>\n      <td>1.1972</td>\n      <td>1.0219</td>\n    </tr>\n  </tbody>\n</table>\n</div>"
     },
     "metadata": {},
     "output_type": "display_data"
    }
   ],
   "source": [
    "data = similarity_scores\n",
    "dict = {'Model': [],\n",
    "        'Rating (Avg)': [],\n",
    "        'Rating (Dev)': []}\n",
    "\n",
    "for model in all_models:\n",
    "    dict['Model'].append(model)\n",
    "    dict['Rating (Avg)'].append(round(statistics.mean(similarity_scores[model]['HUMAN']), 4))\n",
    "    dict['Rating (Dev)'].append(round(statistics.stdev(similarity_scores[model]['HUMAN']), 4))\n",
    "\n",
    "df = pd.DataFrame(dict)\n",
    "\n",
    "# displaying the DataFrame\n",
    "display(df.T)\n",
    "#print(df.to_latex().replace(\"00\", \"\"))\n"
   ],
   "metadata": {
    "collapsed": false,
    "ExecuteTime": {
     "start_time": "2023-06-07T10:48:51.455612Z",
     "end_time": "2023-06-07T10:48:51.493698Z"
    }
   }
  },
  {
   "cell_type": "markdown",
   "source": [
    "### Adjusted Rating"
   ],
   "metadata": {
    "collapsed": false
   }
  },
  {
   "cell_type": "code",
   "execution_count": 14,
   "outputs": [
    {
     "data": {
      "text/plain": "       Model  Rating (Avg)  Rating (Dev)  Adj. Rating (Avg)  Adj. Rating (Dev)\n0    FT - HQ        4.6217        0.6870             4.4337             1.0532\n1    FT - CR        4.3868        0.9784             3.9926             1.5117\n2    FT - XL        4.3017        1.0246             4.0389             1.4188\n3  STOCK - 1        4.0913        1.1972             3.5554             1.7435\n4  STOCK - 2        4.3691        1.0219             4.1530             1.4029",
      "text/html": "<div>\n<style scoped>\n    .dataframe tbody tr th:only-of-type {\n        vertical-align: middle;\n    }\n\n    .dataframe tbody tr th {\n        vertical-align: top;\n    }\n\n    .dataframe thead th {\n        text-align: right;\n    }\n</style>\n<table border=\"1\" class=\"dataframe\">\n  <thead>\n    <tr style=\"text-align: right;\">\n      <th></th>\n      <th>Model</th>\n      <th>Rating (Avg)</th>\n      <th>Rating (Dev)</th>\n      <th>Adj. Rating (Avg)</th>\n      <th>Adj. Rating (Dev)</th>\n    </tr>\n  </thead>\n  <tbody>\n    <tr>\n      <th>0</th>\n      <td>FT - HQ</td>\n      <td>4.6217</td>\n      <td>0.6870</td>\n      <td>4.4337</td>\n      <td>1.0532</td>\n    </tr>\n    <tr>\n      <th>1</th>\n      <td>FT - CR</td>\n      <td>4.3868</td>\n      <td>0.9784</td>\n      <td>3.9926</td>\n      <td>1.5117</td>\n    </tr>\n    <tr>\n      <th>2</th>\n      <td>FT - XL</td>\n      <td>4.3017</td>\n      <td>1.0246</td>\n      <td>4.0389</td>\n      <td>1.4188</td>\n    </tr>\n    <tr>\n      <th>3</th>\n      <td>STOCK - 1</td>\n      <td>4.0913</td>\n      <td>1.1972</td>\n      <td>3.5554</td>\n      <td>1.7435</td>\n    </tr>\n    <tr>\n      <th>4</th>\n      <td>STOCK - 2</td>\n      <td>4.3691</td>\n      <td>1.0219</td>\n      <td>4.1530</td>\n      <td>1.4029</td>\n    </tr>\n  </tbody>\n</table>\n</div>"
     },
     "metadata": {},
     "output_type": "display_data"
    }
   ],
   "source": [
    "data = similarity_scores\n",
    "dict = {'Model': [],\n",
    "        'Rating (Avg)': [],\n",
    "        'Rating (Dev)': [],\n",
    "        'Adj. Rating (Avg)': [],\n",
    "        'Adj. Rating (Dev)': []}\n",
    "\n",
    "for model in all_models:\n",
    "    dict['Model'].append(model)\n",
    "    dict['Adj. Rating (Avg)'].append(round(statistics.mean(similarity_scores[model]['HUMAN (Punished)']), 4))\n",
    "    dict['Adj. Rating (Dev)'].append(round(statistics.stdev(similarity_scores[model]['HUMAN (Punished)']), 4))\n",
    "    dict['Rating (Avg)'].append(round(statistics.mean(similarity_scores[model]['HUMAN']), 4))\n",
    "    dict['Rating (Dev)'].append(round(statistics.stdev(similarity_scores[model]['HUMAN']), 4))\n",
    "\n",
    "df = pd.DataFrame(dict)\n",
    "display(df)\n",
    "#print(df.T.to_latex().replace(\"00\", \"\"))"
   ],
   "metadata": {
    "collapsed": false,
    "ExecuteTime": {
     "start_time": "2023-06-07T10:48:51.476629Z",
     "end_time": "2023-06-07T10:48:51.494331Z"
    }
   }
  },
  {
   "cell_type": "markdown",
   "source": [
    "### Distribution of ratings"
   ],
   "metadata": {
    "collapsed": false
   }
  },
  {
   "cell_type": "code",
   "execution_count": 15,
   "outputs": [
    {
     "data": {
      "text/plain": "             0        1        2          3          4\nModel  FT - HQ  FT - CR  FT - XL  STOCK - 1  STOCK - 2\n1       0.43 %   2.88 %   3.31 %     5.39 %     2.58 %\n2       1.74 %    3.7 %   3.72 %     7.88 %     5.58 %\n3       3.91 %   7.41 %  10.74 %     11.2 %     8.15 %\n4      23.04 %  23.87 %  23.97 %    23.24 %    19.74 %\n5      70.87 %  62.14 %  58.26 %    52.28 %    63.95 %",
      "text/html": "<div>\n<style scoped>\n    .dataframe tbody tr th:only-of-type {\n        vertical-align: middle;\n    }\n\n    .dataframe tbody tr th {\n        vertical-align: top;\n    }\n\n    .dataframe thead th {\n        text-align: right;\n    }\n</style>\n<table border=\"1\" class=\"dataframe\">\n  <thead>\n    <tr style=\"text-align: right;\">\n      <th></th>\n      <th>0</th>\n      <th>1</th>\n      <th>2</th>\n      <th>3</th>\n      <th>4</th>\n    </tr>\n  </thead>\n  <tbody>\n    <tr>\n      <th>Model</th>\n      <td>FT - HQ</td>\n      <td>FT - CR</td>\n      <td>FT - XL</td>\n      <td>STOCK - 1</td>\n      <td>STOCK - 2</td>\n    </tr>\n    <tr>\n      <th>1</th>\n      <td>0.43 %</td>\n      <td>2.88 %</td>\n      <td>3.31 %</td>\n      <td>5.39 %</td>\n      <td>2.58 %</td>\n    </tr>\n    <tr>\n      <th>2</th>\n      <td>1.74 %</td>\n      <td>3.7 %</td>\n      <td>3.72 %</td>\n      <td>7.88 %</td>\n      <td>5.58 %</td>\n    </tr>\n    <tr>\n      <th>3</th>\n      <td>3.91 %</td>\n      <td>7.41 %</td>\n      <td>10.74 %</td>\n      <td>11.2 %</td>\n      <td>8.15 %</td>\n    </tr>\n    <tr>\n      <th>4</th>\n      <td>23.04 %</td>\n      <td>23.87 %</td>\n      <td>23.97 %</td>\n      <td>23.24 %</td>\n      <td>19.74 %</td>\n    </tr>\n    <tr>\n      <th>5</th>\n      <td>70.87 %</td>\n      <td>62.14 %</td>\n      <td>58.26 %</td>\n      <td>52.28 %</td>\n      <td>63.95 %</td>\n    </tr>\n  </tbody>\n</table>\n</div>"
     },
     "metadata": {},
     "output_type": "display_data"
    }
   ],
   "source": [
    "dict = {'Model': [],\n",
    "        '1': [],\n",
    "        '2': [],\n",
    "        '3': [],\n",
    "        '4': [],\n",
    "        '5': []}\n",
    "\n",
    "for model in all_models:\n",
    "    dict['Model'].append(model)\n",
    "    dict['1'].append(\n",
    "        str(round(similarity_scores[model]['HUMAN'].count(1) / len(similarity_scores[model]['HUMAN']) * 100, 2)) + \" %\")\n",
    "    dict['2'].append(\n",
    "        str(round(similarity_scores[model]['HUMAN'].count(2) / len(similarity_scores[model]['HUMAN']) * 100, 2)) + \" %\")\n",
    "    dict['3'].append(\n",
    "        str(round(similarity_scores[model]['HUMAN'].count(3) / len(similarity_scores[model]['HUMAN']) * 100, 2)) + \" %\")\n",
    "    dict['4'].append(\n",
    "        str(round(similarity_scores[model]['HUMAN'].count(4) / len(similarity_scores[model]['HUMAN']) * 100, 2)) + \" %\")\n",
    "    dict['5'].append(\n",
    "        str(round(similarity_scores[model]['HUMAN'].count(5) / len(similarity_scores[model]['HUMAN']) * 100, 2)) + \" %\")\n",
    "\n",
    "df = pd.DataFrame(dict)\n",
    "\n",
    "# displaying the DataFrame\n",
    "display(df.T)\n",
    "#print(df.T.to_latex())"
   ],
   "metadata": {
    "collapsed": false,
    "ExecuteTime": {
     "start_time": "2023-06-07T10:48:51.484955Z",
     "end_time": "2023-06-07T10:48:51.494566Z"
    }
   }
  },
  {
   "cell_type": "markdown",
   "source": [
    "### ANOVA"
   ],
   "metadata": {
    "collapsed": false
   }
  },
  {
   "cell_type": "code",
   "execution_count": 16,
   "outputs": [
    {
     "data": {
      "text/plain": "<Figure size 640x480 with 1 Axes>",
      "image/png": "[encoded data removed]"
     },
     "metadata": {},
     "output_type": "display_data"
    }
   ],
   "source": [
    "data = {}\n",
    "\n",
    "for model in all_models:\n",
    "    data[model] = similarity_scores[model]['HUMAN'][0:230]\n",
    "\n",
    "df = pd.DataFrame({key: pd.Series(value) for key, value in data.items()})\n",
    "df_melt = pd.melt(df.reset_index(), id_vars=['index'],\n",
    "                  value_vars=['FT - HQ', 'FT - CR', 'FT - XL', 'STOCK - 1', 'STOCK - 2'])\n",
    "\n",
    "# replace column names\n",
    "df_melt.columns = ['index', 'models', 'rating']\n",
    "\n",
    "# generate a boxplot to see the data distribution by treatments. Using boxplot, we can\n",
    "# easily detect the differences between different treatments\n",
    "import matplotlib.pyplot as plt\n",
    "import seaborn as sns\n",
    "\n",
    "ax = sns.boxplot(x='models', y='rating', data=df_melt, color='#315A4F')\n",
    "ax = sns.swarmplot(x=\"models\", y=\"rating\", data=df_melt, color='#FF785A')\n",
    "plt.show()"
   ],
   "metadata": {
    "collapsed": false,
    "ExecuteTime": {
     "start_time": "2023-06-07T10:48:51.498133Z",
     "end_time": "2023-06-07T10:48:59.100052Z"
    }
   }
  },
  {
   "cell_type": "code",
   "execution_count": 17,
   "outputs": [
    {
     "name": "stdout",
     "output_type": "stream",
     "text": [
      "8.644460297530724 7.122671425251642e-07\n"
     ]
    },
    {
     "data": {
      "text/plain": "                sum_sq      df        F        PR(>F)\nC(models)    34.509565     4.0  8.64446  7.122671e-07\nResidual   1142.739130  1145.0      NaN           NaN",
      "text/html": "<div>\n<style scoped>\n    .dataframe tbody tr th:only-of-type {\n        vertical-align: middle;\n    }\n\n    .dataframe tbody tr th {\n        vertical-align: top;\n    }\n\n    .dataframe thead th {\n        text-align: right;\n    }\n</style>\n<table border=\"1\" class=\"dataframe\">\n  <thead>\n    <tr style=\"text-align: right;\">\n      <th></th>\n      <th>sum_sq</th>\n      <th>df</th>\n      <th>F</th>\n      <th>PR(&gt;F)</th>\n    </tr>\n  </thead>\n  <tbody>\n    <tr>\n      <th>C(models)</th>\n      <td>34.509565</td>\n      <td>4.0</td>\n      <td>8.64446</td>\n      <td>7.122671e-07</td>\n    </tr>\n    <tr>\n      <th>Residual</th>\n      <td>1142.739130</td>\n      <td>1145.0</td>\n      <td>NaN</td>\n      <td>NaN</td>\n    </tr>\n  </tbody>\n</table>\n</div>"
     },
     "metadata": {},
     "output_type": "display_data"
    }
   ],
   "source": [
    "import scipy.stats as stats\n",
    "\n",
    "fvalue, pvalue = stats.f_oneway(df['FT - HQ'], df['FT - CR'], df['FT - XL'], df['STOCK - 1'], df['STOCK - 2'])\n",
    "print(fvalue, pvalue)\n",
    "\n",
    "# get ANOVA table as R like output\n",
    "import statsmodels.api as sm\n",
    "from statsmodels.formula.api import ols\n",
    "\n",
    "# Ordinary Least Squares (OLS) model\n",
    "model = ols('rating ~ C(models)', data=df_melt).fit()\n",
    "anova_table = sm.stats.anova_lm(model, typ=2)\n",
    "display(anova_table)\n",
    "#print(anova_table.to_latex())"
   ],
   "metadata": {
    "collapsed": false,
    "ExecuteTime": {
     "start_time": "2023-06-07T10:48:59.102414Z",
     "end_time": "2023-06-07T10:49:05.157215Z"
    }
   }
  },
  {
   "cell_type": "markdown",
   "source": [
    "### Tukey HSD"
   ],
   "metadata": {
    "collapsed": false
   }
  },
  {
   "cell_type": "code",
   "execution_count": 18,
   "outputs": [
    {
     "name": "stdout",
     "output_type": "stream",
     "text": [
      "   Multiple Comparison of Means - Tukey HSD, FWER=0.05    \n",
      "==========================================================\n",
      "  group1    group2  meandiff p-adj   lower   upper  reject\n",
      "----------------------------------------------------------\n",
      "  FT - CR   FT - HQ   0.2217 0.1214 -0.0328  0.4763  False\n",
      "  FT - CR   FT - XL  -0.0957  0.843 -0.3502  0.1589  False\n",
      "  FT - CR STOCK - 1  -0.3174 0.0061 -0.5719 -0.0629   True\n",
      "  FT - CR STOCK - 2  -0.0348 0.9959 -0.2893  0.2197  False\n",
      "  FT - HQ   FT - XL  -0.3174 0.0061 -0.5719 -0.0629   True\n",
      "  FT - HQ STOCK - 1  -0.5391    0.0 -0.7937 -0.2846   True\n",
      "  FT - HQ STOCK - 2  -0.2565 0.0471  -0.511  -0.002   True\n",
      "  FT - XL STOCK - 1  -0.2217 0.1214 -0.4763  0.0328  False\n",
      "  FT - XL STOCK - 2   0.0609  0.966 -0.1937  0.3154  False\n",
      "STOCK - 1 STOCK - 2   0.2826 0.0208  0.0281  0.5371   True\n",
      "----------------------------------------------------------\n"
     ]
    }
   ],
   "source": [
    "tukey = pairwise_tukeyhsd(endog=df_melt['rating'],\n",
    "                          groups=df_melt['models'],\n",
    "                          alpha=0.05)\n",
    "print(tukey)\n"
   ],
   "metadata": {
    "collapsed": false,
    "ExecuteTime": {
     "start_time": "2023-06-07T10:49:05.158655Z",
     "end_time": "2023-06-07T10:49:06.306578Z"
    }
   }
  },
  {
   "cell_type": "markdown",
   "source": [
    "### Detailed Evaluation"
   ],
   "metadata": {
    "collapsed": false
   }
  },
  {
   "cell_type": "code",
   "execution_count": 19,
   "outputs": [
    {
     "data": {
      "text/plain": "             0        1        2          3          4\nModel  FT - HQ  FT - CR  FT - XL  STOCK - 1  STOCK - 2\n1      37.31 %  28.26 %  34.65 %    17.39 %    45.24 %\n2      29.85 %  10.87 %  25.74 %      8.7 %    16.67 %\n3      14.93 %    8.7 %  11.88 %     9.57 %     4.76 %\n4       8.96 %   33.7 %  11.88 %    42.61 %    15.48 %\n5       7.46 %  13.04 %    9.9 %    14.78 %    15.48 %\n6       7.46 %  13.04 %    9.9 %    14.78 %    15.48 %",
      "text/html": "<div>\n<style scoped>\n    .dataframe tbody tr th:only-of-type {\n        vertical-align: middle;\n    }\n\n    .dataframe tbody tr th {\n        vertical-align: top;\n    }\n\n    .dataframe thead th {\n        text-align: right;\n    }\n</style>\n<table border=\"1\" class=\"dataframe\">\n  <thead>\n    <tr style=\"text-align: right;\">\n      <th></th>\n      <th>0</th>\n      <th>1</th>\n      <th>2</th>\n      <th>3</th>\n      <th>4</th>\n    </tr>\n  </thead>\n  <tbody>\n    <tr>\n      <th>Model</th>\n      <td>FT - HQ</td>\n      <td>FT - CR</td>\n      <td>FT - XL</td>\n      <td>STOCK - 1</td>\n      <td>STOCK - 2</td>\n    </tr>\n    <tr>\n      <th>1</th>\n      <td>37.31 %</td>\n      <td>28.26 %</td>\n      <td>34.65 %</td>\n      <td>17.39 %</td>\n      <td>45.24 %</td>\n    </tr>\n    <tr>\n      <th>2</th>\n      <td>29.85 %</td>\n      <td>10.87 %</td>\n      <td>25.74 %</td>\n      <td>8.7 %</td>\n      <td>16.67 %</td>\n    </tr>\n    <tr>\n      <th>3</th>\n      <td>14.93 %</td>\n      <td>8.7 %</td>\n      <td>11.88 %</td>\n      <td>9.57 %</td>\n      <td>4.76 %</td>\n    </tr>\n    <tr>\n      <th>4</th>\n      <td>8.96 %</td>\n      <td>33.7 %</td>\n      <td>11.88 %</td>\n      <td>42.61 %</td>\n      <td>15.48 %</td>\n    </tr>\n    <tr>\n      <th>5</th>\n      <td>7.46 %</td>\n      <td>13.04 %</td>\n      <td>9.9 %</td>\n      <td>14.78 %</td>\n      <td>15.48 %</td>\n    </tr>\n    <tr>\n      <th>6</th>\n      <td>7.46 %</td>\n      <td>13.04 %</td>\n      <td>9.9 %</td>\n      <td>14.78 %</td>\n      <td>15.48 %</td>\n    </tr>\n  </tbody>\n</table>\n</div>"
     },
     "metadata": {},
     "output_type": "display_data"
    }
   ],
   "source": [
    "dict = {'Model': [],\n",
    "        '1': [],\n",
    "        '2': [],\n",
    "        '3': [],\n",
    "        '4': [],\n",
    "        '5': [],\n",
    "        '6': []}\n",
    "\n",
    "for model in all_models:\n",
    "    dict['Model'].append(model)\n",
    "    dict['1'].append(\n",
    "        str(round(detailed_ratings_per_model[model].count(1) / len(detailed_ratings_per_model[model]) * 100, 2)) + \" %\")\n",
    "    dict['2'].append(\n",
    "        str(round(detailed_ratings_per_model[model].count(2) / len(detailed_ratings_per_model[model]) * 100, 2)) + \" %\")\n",
    "    dict['3'].append(\n",
    "        str(round(detailed_ratings_per_model[model].count(3) / len(detailed_ratings_per_model[model]) * 100, 2)) + \" %\")\n",
    "    dict['4'].append(\n",
    "        str(round(detailed_ratings_per_model[model].count(4) / len(detailed_ratings_per_model[model]) * 100, 2)) + \" %\")\n",
    "    dict['5'].append(\n",
    "        str(round(detailed_ratings_per_model[model].count(5) / len(detailed_ratings_per_model[model]) * 100, 2)) + \" %\")\n",
    "    dict['6'].append(\n",
    "        str(round(detailed_ratings_per_model[model].count(5) / len(detailed_ratings_per_model[model]) * 100, 2)) + \" %\")\n",
    "\n",
    "df = pd.DataFrame(dict)\n",
    "\n",
    "# displaying the DataFrame\n",
    "display(df.T)\n",
    "#print(df.T.to_latex())"
   ],
   "metadata": {
    "collapsed": false,
    "ExecuteTime": {
     "start_time": "2023-06-07T10:49:06.306832Z",
     "end_time": "2023-06-07T10:49:06.316432Z"
    }
   }
  },
  {
   "cell_type": "markdown",
   "source": [
    "## Automatic Evaluation"
   ],
   "metadata": {
    "collapsed": false
   }
  },
  {
   "cell_type": "code",
   "execution_count": 20,
   "outputs": [
    {
     "data": {
      "text/plain": "       Model    BERT    FUZZ    JARO    BLEU  METEOR   ROUGE   SPACY  \\\n0    FT - HQ  0.7278  0.6255  0.6848  0.3187  0.3254  0.4621  0.7589   \n1    FT - CR  0.6722  0.4965  0.6412  0.2221  0.2539  0.3868  0.7835   \n2    FT - XL  0.6917  0.6010  0.6769  0.3084  0.3113  0.4655  0.7794   \n3  STOCK - 1  0.6327  0.4688  0.6308  0.1880  0.2199  0.3434  0.7666   \n4  STOCK - 2  0.7268  0.6219  0.6849  0.3371  0.3428  0.4745  0.7845   \n\n   HUMAN (Punished)   HUMAN  \n0            4.4337  4.6217  \n1            3.9926  4.3868  \n2            4.0389  4.3017  \n3            3.5554  4.0913  \n4            4.1530  4.3691  ",
      "text/html": "<div>\n<style scoped>\n    .dataframe tbody tr th:only-of-type {\n        vertical-align: middle;\n    }\n\n    .dataframe tbody tr th {\n        vertical-align: top;\n    }\n\n    .dataframe thead th {\n        text-align: right;\n    }\n</style>\n<table border=\"1\" class=\"dataframe\">\n  <thead>\n    <tr style=\"text-align: right;\">\n      <th></th>\n      <th>Model</th>\n      <th>BERT</th>\n      <th>FUZZ</th>\n      <th>JARO</th>\n      <th>BLEU</th>\n      <th>METEOR</th>\n      <th>ROUGE</th>\n      <th>SPACY</th>\n      <th>HUMAN (Punished)</th>\n      <th>HUMAN</th>\n    </tr>\n  </thead>\n  <tbody>\n    <tr>\n      <th>0</th>\n      <td>FT - HQ</td>\n      <td>0.7278</td>\n      <td>0.6255</td>\n      <td>0.6848</td>\n      <td>0.3187</td>\n      <td>0.3254</td>\n      <td>0.4621</td>\n      <td>0.7589</td>\n      <td>4.4337</td>\n      <td>4.6217</td>\n    </tr>\n    <tr>\n      <th>1</th>\n      <td>FT - CR</td>\n      <td>0.6722</td>\n      <td>0.4965</td>\n      <td>0.6412</td>\n      <td>0.2221</td>\n      <td>0.2539</td>\n      <td>0.3868</td>\n      <td>0.7835</td>\n      <td>3.9926</td>\n      <td>4.3868</td>\n    </tr>\n    <tr>\n      <th>2</th>\n      <td>FT - XL</td>\n      <td>0.6917</td>\n      <td>0.6010</td>\n      <td>0.6769</td>\n      <td>0.3084</td>\n      <td>0.3113</td>\n      <td>0.4655</td>\n      <td>0.7794</td>\n      <td>4.0389</td>\n      <td>4.3017</td>\n    </tr>\n    <tr>\n      <th>3</th>\n      <td>STOCK - 1</td>\n      <td>0.6327</td>\n      <td>0.4688</td>\n      <td>0.6308</td>\n      <td>0.1880</td>\n      <td>0.2199</td>\n      <td>0.3434</td>\n      <td>0.7666</td>\n      <td>3.5554</td>\n      <td>4.0913</td>\n    </tr>\n    <tr>\n      <th>4</th>\n      <td>STOCK - 2</td>\n      <td>0.7268</td>\n      <td>0.6219</td>\n      <td>0.6849</td>\n      <td>0.3371</td>\n      <td>0.3428</td>\n      <td>0.4745</td>\n      <td>0.7845</td>\n      <td>4.1530</td>\n      <td>4.3691</td>\n    </tr>\n  </tbody>\n</table>\n</div>"
     },
     "metadata": {},
     "output_type": "display_data"
    }
   ],
   "source": [
    "data = similarity_scores\n",
    "dict = {'Model': [],\n",
    "        'BERT': [],\n",
    "        'FUZZ': [],\n",
    "        'JARO': [],\n",
    "        'BLEU': [],\n",
    "        'METEOR': [],\n",
    "        'ROUGE': [],\n",
    "        'SPACY': [],\n",
    "        'HUMAN (Punished)': [],\n",
    "        'HUMAN': []}\n",
    "\n",
    "for model in all_models:\n",
    "    dict['Model'].append(model)\n",
    "    dict['BERT'].append(round(statistics.mean(similarity_scores[model]['BERT']), 4))\n",
    "    dict['FUZZ'].append(round(statistics.mean(similarity_scores[model]['FUZZ']), 4))\n",
    "    dict['JARO'].append(round(statistics.mean(similarity_scores[model]['JARO']), 4))\n",
    "    dict['BLEU'].append(round(statistics.mean(similarity_scores[model]['BLEU']), 4))\n",
    "    dict['METEOR'].append(round(statistics.mean(similarity_scores[model]['METEOR']), 4))\n",
    "    dict['ROUGE'].append(round(statistics.mean(similarity_scores[model]['ROUGE']), 4))\n",
    "    dict['SPACY'].append(round(statistics.mean(similarity_scores[model]['SPACY']), 4))\n",
    "    dict['HUMAN (Punished)'].append(round(statistics.mean(similarity_scores[model]['HUMAN (Punished)']), 4))\n",
    "    dict['HUMAN'].append(round(statistics.mean(similarity_scores[model]['HUMAN']), 4))\n",
    "\n",
    "df = pd.DataFrame(dict)\n",
    "\n",
    "# displaying the DataFrame\n",
    "display(df)\n",
    "#print(df.T.to_latex().replace(\"00\", \"\"))"
   ],
   "metadata": {
    "collapsed": false,
    "ExecuteTime": {
     "start_time": "2023-06-07T10:49:06.332050Z",
     "end_time": "2023-06-07T10:49:06.357910Z"
    }
   }
  },
  {
   "cell_type": "markdown",
   "source": [
    "### Standard Deviation"
   ],
   "metadata": {
    "collapsed": false
   }
  },
  {
   "cell_type": "code",
   "execution_count": 21,
   "outputs": [
    {
     "data": {
      "text/plain": "       Model    BERT    FUZZ    JARO    BLEU  METEOR   ROUGE   SPACY  \\\n0    FT - HQ  0.2042  0.1841  0.1097  0.2379  0.2563  0.2563  0.1891   \n1    FT - CR  0.1970  0.1869  0.0773  0.2147  0.2072  0.2278  0.1317   \n2    FT - XL  0.2035  0.1794  0.0951  0.2395  0.2578  0.2618  0.1669   \n3  STOCK - 1  0.2002  0.1633  0.0737  0.1873  0.1820  0.2031  0.1462   \n4  STOCK - 2  0.1861  0.1682  0.0917  0.2302  0.2447  0.2284  0.1596   \n\n   HUMAN (Punished)   HUMAN  \n0            1.0532  0.6870  \n1            1.5117  0.9784  \n2            1.4188  1.0246  \n3            1.7435  1.1972  \n4            1.4029  1.0219  ",
      "text/html": "<div>\n<style scoped>\n    .dataframe tbody tr th:only-of-type {\n        vertical-align: middle;\n    }\n\n    .dataframe tbody tr th {\n        vertical-align: top;\n    }\n\n    .dataframe thead th {\n        text-align: right;\n    }\n</style>\n<table border=\"1\" class=\"dataframe\">\n  <thead>\n    <tr style=\"text-align: right;\">\n      <th></th>\n      <th>Model</th>\n      <th>BERT</th>\n      <th>FUZZ</th>\n      <th>JARO</th>\n      <th>BLEU</th>\n      <th>METEOR</th>\n      <th>ROUGE</th>\n      <th>SPACY</th>\n      <th>HUMAN (Punished)</th>\n      <th>HUMAN</th>\n    </tr>\n  </thead>\n  <tbody>\n    <tr>\n      <th>0</th>\n      <td>FT - HQ</td>\n      <td>0.2042</td>\n      <td>0.1841</td>\n      <td>0.1097</td>\n      <td>0.2379</td>\n      <td>0.2563</td>\n      <td>0.2563</td>\n      <td>0.1891</td>\n      <td>1.0532</td>\n      <td>0.6870</td>\n    </tr>\n    <tr>\n      <th>1</th>\n      <td>FT - CR</td>\n      <td>0.1970</td>\n      <td>0.1869</td>\n      <td>0.0773</td>\n      <td>0.2147</td>\n      <td>0.2072</td>\n      <td>0.2278</td>\n      <td>0.1317</td>\n      <td>1.5117</td>\n      <td>0.9784</td>\n    </tr>\n    <tr>\n      <th>2</th>\n      <td>FT - XL</td>\n      <td>0.2035</td>\n      <td>0.1794</td>\n      <td>0.0951</td>\n      <td>0.2395</td>\n      <td>0.2578</td>\n      <td>0.2618</td>\n      <td>0.1669</td>\n      <td>1.4188</td>\n      <td>1.0246</td>\n    </tr>\n    <tr>\n      <th>3</th>\n      <td>STOCK - 1</td>\n      <td>0.2002</td>\n      <td>0.1633</td>\n      <td>0.0737</td>\n      <td>0.1873</td>\n      <td>0.1820</td>\n      <td>0.2031</td>\n      <td>0.1462</td>\n      <td>1.7435</td>\n      <td>1.1972</td>\n    </tr>\n    <tr>\n      <th>4</th>\n      <td>STOCK - 2</td>\n      <td>0.1861</td>\n      <td>0.1682</td>\n      <td>0.0917</td>\n      <td>0.2302</td>\n      <td>0.2447</td>\n      <td>0.2284</td>\n      <td>0.1596</td>\n      <td>1.4029</td>\n      <td>1.0219</td>\n    </tr>\n  </tbody>\n</table>\n</div>"
     },
     "metadata": {},
     "output_type": "display_data"
    }
   ],
   "source": [
    "data = similarity_scores\n",
    "dict = {'Model': [],\n",
    "        'BERT': [],\n",
    "        'FUZZ': [],\n",
    "        'JARO': [],\n",
    "        'BLEU': [],\n",
    "        'METEOR': [],\n",
    "        'ROUGE': [],\n",
    "        'SPACY': [],\n",
    "        'HUMAN (Punished)': [],\n",
    "        'HUMAN': []}\n",
    "\n",
    "for model in all_models:\n",
    "    dict['Model'].append(model)\n",
    "    dict['BERT'].append(round(statistics.stdev(similarity_scores[model]['BERT']), 4))\n",
    "    dict['FUZZ'].append(round(statistics.stdev(similarity_scores[model]['FUZZ']), 4))\n",
    "    dict['JARO'].append(round(statistics.stdev(similarity_scores[model]['JARO']), 4))\n",
    "    dict['BLEU'].append(round(statistics.stdev(similarity_scores[model]['BLEU']), 4))\n",
    "    dict['METEOR'].append(round(statistics.stdev(similarity_scores[model]['METEOR']), 4))\n",
    "    dict['ROUGE'].append(round(statistics.stdev(similarity_scores[model]['ROUGE']), 4))\n",
    "    dict['SPACY'].append(round(statistics.stdev(similarity_scores[model]['SPACY']), 4))\n",
    "    dict['HUMAN (Punished)'].append(round(statistics.stdev(similarity_scores[model]['HUMAN (Punished)']), 4))\n",
    "    dict['HUMAN'].append(round(statistics.stdev(similarity_scores[model]['HUMAN']), 4))\n",
    "\n",
    "df = pd.DataFrame(dict)\n",
    "\n",
    "# displaying the DataFrame\n",
    "display(df)\n",
    "#print(df.T.to_latex().replace(\"00\", \"\"))"
   ],
   "metadata": {
    "collapsed": false,
    "ExecuteTime": {
     "start_time": "2023-06-07T10:49:06.362302Z",
     "end_time": "2023-06-07T10:49:06.402455Z"
    }
   }
  },
  {
   "cell_type": "markdown",
   "source": [
    "### Covariance of human and automatic evaluation"
   ],
   "metadata": {
    "collapsed": false
   }
  },
  {
   "cell_type": "code",
   "execution_count": 22,
   "outputs": [],
   "source": [
    "def correlation_from_covariance(covariance):\n",
    "    v = np.sqrt(np.diag(covariance))\n",
    "    outer_v = np.outer(v, v)\n",
    "    correlation = covariance / outer_v\n",
    "    correlation[covariance == 0] = 0\n",
    "    return correlation"
   ],
   "metadata": {
    "collapsed": false,
    "ExecuteTime": {
     "start_time": "2023-06-07T10:49:06.367136Z",
     "end_time": "2023-06-07T10:49:06.402597Z"
    }
   }
  },
  {
   "cell_type": "code",
   "execution_count": 23,
   "outputs": [
    {
     "data": {
      "text/plain": "<Axes: >"
     },
     "execution_count": 23,
     "metadata": {},
     "output_type": "execute_result"
    },
    {
     "data": {
      "text/plain": "<Figure size 1000x900 with 2 Axes>",
      "image/png": "[encoded data removed]"
     },
     "metadata": {},
     "output_type": "display_data"
    }
   ],
   "source": [
    "data = similarity_scores_all_models\n",
    "df = pd.DataFrame(data)\n",
    "cov_matrix = pd.DataFrame.cov(df.round(2))\n",
    "corr_matrix = correlation_from_covariance(cov_matrix)\n",
    "plt.figure(figsize=(10, 9))\n",
    "sn.heatmap(corr_matrix, annot=True, fmt='g')"
   ],
   "metadata": {
    "collapsed": false,
    "ExecuteTime": {
     "start_time": "2023-06-07T10:49:06.372554Z",
     "end_time": "2023-06-07T10:49:06.695082Z"
    }
   }
  },
  {
   "cell_type": "markdown",
   "source": [
    "### Only \"Perfect\" Ratings\n"
   ],
   "metadata": {
    "collapsed": false
   }
  },
  {
   "cell_type": "code",
   "execution_count": 24,
   "outputs": [
    {
     "data": {
      "text/plain": "       Model    BERT    FUZZ    JARO    BLEU  METEOR  ROUGE   SPACY  \\\n0    FT - HQ  0.7225  0.6012  0.6792  0.3136  0.3276  0.472  0.7843   \n1    FT - CR  0.7225  0.6012  0.6792  0.3136  0.3276  0.472  0.7843   \n2    FT - XL  0.7225  0.6012  0.6792  0.3136  0.3276  0.472  0.7843   \n3  STOCK - 1  0.7225  0.6012  0.6792  0.3136  0.3276  0.472  0.7843   \n4  STOCK - 2  0.7225  0.6012  0.6792  0.3136  0.3276  0.472  0.7843   \n\n   HUMAN (Punished)  HUMAN  \n0                 5      5  \n1                 5      5  \n2                 5      5  \n3                 5      5  \n4                 5      5  ",
      "text/html": "<div>\n<style scoped>\n    .dataframe tbody tr th:only-of-type {\n        vertical-align: middle;\n    }\n\n    .dataframe tbody tr th {\n        vertical-align: top;\n    }\n\n    .dataframe thead th {\n        text-align: right;\n    }\n</style>\n<table border=\"1\" class=\"dataframe\">\n  <thead>\n    <tr style=\"text-align: right;\">\n      <th></th>\n      <th>Model</th>\n      <th>BERT</th>\n      <th>FUZZ</th>\n      <th>JARO</th>\n      <th>BLEU</th>\n      <th>METEOR</th>\n      <th>ROUGE</th>\n      <th>SPACY</th>\n      <th>HUMAN (Punished)</th>\n      <th>HUMAN</th>\n    </tr>\n  </thead>\n  <tbody>\n    <tr>\n      <th>0</th>\n      <td>FT - HQ</td>\n      <td>0.7225</td>\n      <td>0.6012</td>\n      <td>0.6792</td>\n      <td>0.3136</td>\n      <td>0.3276</td>\n      <td>0.472</td>\n      <td>0.7843</td>\n      <td>5</td>\n      <td>5</td>\n    </tr>\n    <tr>\n      <th>1</th>\n      <td>FT - CR</td>\n      <td>0.7225</td>\n      <td>0.6012</td>\n      <td>0.6792</td>\n      <td>0.3136</td>\n      <td>0.3276</td>\n      <td>0.472</td>\n      <td>0.7843</td>\n      <td>5</td>\n      <td>5</td>\n    </tr>\n    <tr>\n      <th>2</th>\n      <td>FT - XL</td>\n      <td>0.7225</td>\n      <td>0.6012</td>\n      <td>0.6792</td>\n      <td>0.3136</td>\n      <td>0.3276</td>\n      <td>0.472</td>\n      <td>0.7843</td>\n      <td>5</td>\n      <td>5</td>\n    </tr>\n    <tr>\n      <th>3</th>\n      <td>STOCK - 1</td>\n      <td>0.7225</td>\n      <td>0.6012</td>\n      <td>0.6792</td>\n      <td>0.3136</td>\n      <td>0.3276</td>\n      <td>0.472</td>\n      <td>0.7843</td>\n      <td>5</td>\n      <td>5</td>\n    </tr>\n    <tr>\n      <th>4</th>\n      <td>STOCK - 2</td>\n      <td>0.7225</td>\n      <td>0.6012</td>\n      <td>0.6792</td>\n      <td>0.3136</td>\n      <td>0.3276</td>\n      <td>0.472</td>\n      <td>0.7843</td>\n      <td>5</td>\n      <td>5</td>\n    </tr>\n  </tbody>\n</table>\n</div>"
     },
     "metadata": {},
     "output_type": "display_data"
    }
   ],
   "source": [
    "dict = {'Model': [],\n",
    "        'BERT': [],\n",
    "        'FUZZ': [],\n",
    "        'JARO': [],\n",
    "        'BLEU': [],\n",
    "        'METEOR': [],\n",
    "        'ROUGE': [],\n",
    "        'SPACY': [],\n",
    "        'HUMAN (Punished)': [],\n",
    "        'HUMAN': []}\n",
    "\n",
    "for model in all_models:\n",
    "    dict['Model'].append(model)\n",
    "    dict['BERT'].append(round(statistics.mean(similarity_scores_perfect['BERT']), 4))\n",
    "    dict['FUZZ'].append(round(statistics.mean(similarity_scores_perfect['FUZZ']), 4))\n",
    "    dict['JARO'].append(round(statistics.mean(similarity_scores_perfect['JARO']), 4))\n",
    "    dict['BLEU'].append(round(statistics.mean(similarity_scores_perfect['BLEU']), 4))\n",
    "    dict['METEOR'].append(round(statistics.mean(similarity_scores_perfect['METEOR']), 4))\n",
    "    dict['ROUGE'].append(round(statistics.mean(similarity_scores_perfect['ROUGE']), 4))\n",
    "    dict['SPACY'].append(round(statistics.mean(similarity_scores_perfect['SPACY']), 4))\n",
    "    dict['HUMAN (Punished)'].append(round(statistics.mean(similarity_scores_perfect['HUMAN (Punished)']), 4))\n",
    "    dict['HUMAN'].append(round(statistics.mean(similarity_scores_perfect['HUMAN']), 4))\n",
    "\n",
    "df = pd.DataFrame(dict)\n",
    "\n",
    "# displaying the DataFrame\n",
    "display(df)\n",
    "#print(df.T.to_latex().replace(\"00\", \"\"))"
   ],
   "metadata": {
    "collapsed": false,
    "ExecuteTime": {
     "start_time": "2023-06-07T10:49:06.723508Z",
     "end_time": "2023-06-07T10:49:06.740258Z"
    }
   }
  },
  {
   "cell_type": "markdown",
   "source": [
    "#### Standard Deviation"
   ],
   "metadata": {
    "collapsed": false
   }
  },
  {
   "cell_type": "code",
   "execution_count": 25,
   "outputs": [
    {
     "data": {
      "text/plain": "       Model    BERT    FUZZ    JARO    BLEU  METEOR   ROUGE  SPACY  \\\n0    FT - HQ  0.1948  0.1882  0.0954  0.2383  0.2455  0.2465   0.16   \n1    FT - CR  0.1948  0.1882  0.0954  0.2383  0.2455  0.2465   0.16   \n2    FT - XL  0.1948  0.1882  0.0954  0.2383  0.2455  0.2465   0.16   \n3  STOCK - 1  0.1948  0.1882  0.0954  0.2383  0.2455  0.2465   0.16   \n4  STOCK - 2  0.1948  0.1882  0.0954  0.2383  0.2455  0.2465   0.16   \n\n   HUMAN (Punished)  HUMAN  \n0               0.0    0.0  \n1               0.0    0.0  \n2               0.0    0.0  \n3               0.0    0.0  \n4               0.0    0.0  ",
      "text/html": "<div>\n<style scoped>\n    .dataframe tbody tr th:only-of-type {\n        vertical-align: middle;\n    }\n\n    .dataframe tbody tr th {\n        vertical-align: top;\n    }\n\n    .dataframe thead th {\n        text-align: right;\n    }\n</style>\n<table border=\"1\" class=\"dataframe\">\n  <thead>\n    <tr style=\"text-align: right;\">\n      <th></th>\n      <th>Model</th>\n      <th>BERT</th>\n      <th>FUZZ</th>\n      <th>JARO</th>\n      <th>BLEU</th>\n      <th>METEOR</th>\n      <th>ROUGE</th>\n      <th>SPACY</th>\n      <th>HUMAN (Punished)</th>\n      <th>HUMAN</th>\n    </tr>\n  </thead>\n  <tbody>\n    <tr>\n      <th>0</th>\n      <td>FT - HQ</td>\n      <td>0.1948</td>\n      <td>0.1882</td>\n      <td>0.0954</td>\n      <td>0.2383</td>\n      <td>0.2455</td>\n      <td>0.2465</td>\n      <td>0.16</td>\n      <td>0.0</td>\n      <td>0.0</td>\n    </tr>\n    <tr>\n      <th>1</th>\n      <td>FT - CR</td>\n      <td>0.1948</td>\n      <td>0.1882</td>\n      <td>0.0954</td>\n      <td>0.2383</td>\n      <td>0.2455</td>\n      <td>0.2465</td>\n      <td>0.16</td>\n      <td>0.0</td>\n      <td>0.0</td>\n    </tr>\n    <tr>\n      <th>2</th>\n      <td>FT - XL</td>\n      <td>0.1948</td>\n      <td>0.1882</td>\n      <td>0.0954</td>\n      <td>0.2383</td>\n      <td>0.2455</td>\n      <td>0.2465</td>\n      <td>0.16</td>\n      <td>0.0</td>\n      <td>0.0</td>\n    </tr>\n    <tr>\n      <th>3</th>\n      <td>STOCK - 1</td>\n      <td>0.1948</td>\n      <td>0.1882</td>\n      <td>0.0954</td>\n      <td>0.2383</td>\n      <td>0.2455</td>\n      <td>0.2465</td>\n      <td>0.16</td>\n      <td>0.0</td>\n      <td>0.0</td>\n    </tr>\n    <tr>\n      <th>4</th>\n      <td>STOCK - 2</td>\n      <td>0.1948</td>\n      <td>0.1882</td>\n      <td>0.0954</td>\n      <td>0.2383</td>\n      <td>0.2455</td>\n      <td>0.2465</td>\n      <td>0.16</td>\n      <td>0.0</td>\n      <td>0.0</td>\n    </tr>\n  </tbody>\n</table>\n</div>"
     },
     "metadata": {},
     "output_type": "display_data"
    }
   ],
   "source": [
    "# DEVIATION\n",
    "dict = {'Model': [],\n",
    "        'BERT': [],\n",
    "        'FUZZ': [],\n",
    "        'JARO': [],\n",
    "        'BLEU': [],\n",
    "        'METEOR': [],\n",
    "        'ROUGE': [],\n",
    "        'SPACY': [],\n",
    "        'HUMAN (Punished)': [],\n",
    "        'HUMAN': []}\n",
    "\n",
    "for model in all_models:\n",
    "    dict['Model'].append(model)\n",
    "    dict['BERT'].append(round(statistics.stdev(similarity_scores_perfect['BERT']), 4))\n",
    "    dict['FUZZ'].append(round(statistics.stdev(similarity_scores_perfect['FUZZ']), 4))\n",
    "    dict['JARO'].append(round(statistics.stdev(similarity_scores_perfect['JARO']), 4))\n",
    "    dict['BLEU'].append(round(statistics.stdev(similarity_scores_perfect['BLEU']), 4))\n",
    "    dict['METEOR'].append(round(statistics.stdev(similarity_scores_perfect['METEOR']), 4))\n",
    "    dict['ROUGE'].append(round(statistics.stdev(similarity_scores_perfect['ROUGE']), 4))\n",
    "    dict['SPACY'].append(round(statistics.stdev(similarity_scores_perfect['SPACY']), 4))\n",
    "    dict['HUMAN (Punished)'].append(round(statistics.stdev(similarity_scores_perfect['HUMAN (Punished)']), 4))\n",
    "    dict['HUMAN'].append(round(statistics.stdev(similarity_scores_perfect['HUMAN']), 4))\n",
    "\n",
    "df = pd.DataFrame(dict)\n",
    "\n",
    "# displaying the DataFrame\n",
    "display(df)\n",
    "#print(df.T.to_latex().replace(\"00\", \"\"))"
   ],
   "metadata": {
    "collapsed": false,
    "ExecuteTime": {
     "start_time": "2023-06-07T10:49:06.735642Z",
     "end_time": "2023-06-07T10:49:06.822985Z"
    }
   }
  },
  {
   "cell_type": "markdown",
   "source": [
    "## Keywords in Creation"
   ],
   "metadata": {
    "collapsed": false
   }
  },
  {
   "cell_type": "code",
   "execution_count": 26,
   "outputs": [
    {
     "data": {
      "text/plain": "       Model  Generated (Avg)  Generated (Dev)  Human Reference (Avg)  \\\n0    FT - HQ           0.8807           0.1735                 0.8815   \n1    FT - CR           0.8886           0.1801                 0.8882   \n2    FT - XL           0.8747           0.1933                 0.8746   \n3  STOCK - 1           0.8690           0.1786                 0.8698   \n4  STOCK - 2           0.8874           0.1750                 0.8895   \n\n   Human Reference (Dev)  \n0                 0.1805  \n1                 0.1876  \n2                 0.2015  \n3                 0.1776  \n4                 0.1738  ",
      "text/html": "<div>\n<style scoped>\n    .dataframe tbody tr th:only-of-type {\n        vertical-align: middle;\n    }\n\n    .dataframe tbody tr th {\n        vertical-align: top;\n    }\n\n    .dataframe thead th {\n        text-align: right;\n    }\n</style>\n<table border=\"1\" class=\"dataframe\">\n  <thead>\n    <tr style=\"text-align: right;\">\n      <th></th>\n      <th>Model</th>\n      <th>Generated (Avg)</th>\n      <th>Generated (Dev)</th>\n      <th>Human Reference (Avg)</th>\n      <th>Human Reference (Dev)</th>\n    </tr>\n  </thead>\n  <tbody>\n    <tr>\n      <th>0</th>\n      <td>FT - HQ</td>\n      <td>0.8807</td>\n      <td>0.1735</td>\n      <td>0.8815</td>\n      <td>0.1805</td>\n    </tr>\n    <tr>\n      <th>1</th>\n      <td>FT - CR</td>\n      <td>0.8886</td>\n      <td>0.1801</td>\n      <td>0.8882</td>\n      <td>0.1876</td>\n    </tr>\n    <tr>\n      <th>2</th>\n      <td>FT - XL</td>\n      <td>0.8747</td>\n      <td>0.1933</td>\n      <td>0.8746</td>\n      <td>0.2015</td>\n    </tr>\n    <tr>\n      <th>3</th>\n      <td>STOCK - 1</td>\n      <td>0.8690</td>\n      <td>0.1786</td>\n      <td>0.8698</td>\n      <td>0.1776</td>\n    </tr>\n    <tr>\n      <th>4</th>\n      <td>STOCK - 2</td>\n      <td>0.8874</td>\n      <td>0.1750</td>\n      <td>0.8895</td>\n      <td>0.1738</td>\n    </tr>\n  </tbody>\n</table>\n</div>"
     },
     "metadata": {},
     "output_type": "display_data"
    }
   ],
   "source": [
    "dict = {'Model': [],\n",
    "        'Generated (Avg)': [],\n",
    "        'Generated (Dev)': [],\n",
    "        'Human Reference (Avg)': [],\n",
    "        'Human Reference (Dev)': []}\n",
    "\n",
    "# print(f\"\\nKeywords in Creation\"\n",
    "#       f\"\\nAutomatic: {statistics.mean(eval_keywords_in_creation[model]['keywords_in_creation'])}\"\n",
    "#       f\"\\nHuman: {statistics.mean(eval_keywords_in_creation[model]['keywords_in_creation_human'])}\")\n",
    "\n",
    "for model in all_models:\n",
    "    dict['Model'].append(model)\n",
    "    dict['Generated (Avg)'].append(round(statistics.mean(eval_keywords_in_creation[model]['keywords_in_creation']), 4))\n",
    "    dict['Generated (Dev)'].append(round(statistics.stdev(eval_keywords_in_creation[model]['keywords_in_creation']), 4))\n",
    "    dict['Human Reference (Avg)'].append(\n",
    "        round(statistics.mean(eval_keywords_in_creation[model]['keywords_in_creation_human']), 4))\n",
    "    dict['Human Reference (Dev)'].append(\n",
    "        round(statistics.stdev(eval_keywords_in_creation[model]['keywords_in_creation_human']), 4))\n",
    "\n",
    "df = pd.DataFrame(dict)\n",
    "\n",
    "# displaying the DataFrame\n",
    "\n",
    "display(df)\n",
    "# print(df)\n",
    "#print(df.to_latex().replace(\"00\", \"\"))"
   ],
   "metadata": {
    "collapsed": false,
    "ExecuteTime": {
     "start_time": "2023-06-07T10:49:06.812726Z",
     "end_time": "2023-06-07T10:49:06.823483Z"
    }
   }
  },
  {
   "cell_type": "markdown",
   "source": [
    "## Length of sentences and creation"
   ],
   "metadata": {
    "collapsed": false
   }
  },
  {
   "cell_type": "code",
   "execution_count": 27,
   "outputs": [
    {
     "data": {
      "text/plain": "       Model  Length Keyword (Avg)  Length Generated (Avg)  \\\n0    FT - HQ                2.5039                  7.0469   \n1    FT - CR                2.5091                 14.3600   \n2    FT - XL                2.5038                  8.0568   \n3  STOCK - 1                2.6340                 15.5019   \n4  STOCK - 2                2.5331                  8.2568   \n\n   Length Human (Avg)  Length Keyword (Dev)  Length Generated (Dev)  \\\n0              6.6445                1.6966                  3.2050   \n1              6.8982                1.1569                  7.0848   \n2              6.7955                1.2209                  4.0903   \n3              7.2415                1.8905                  7.6994   \n4              6.8833                1.2311                  3.3395   \n\n   Length Human (Dev)  \n0              3.4269  \n1              3.4962  \n2              3.5147  \n3              4.3487  \n4              3.5699  ",
      "text/html": "<div>\n<style scoped>\n    .dataframe tbody tr th:only-of-type {\n        vertical-align: middle;\n    }\n\n    .dataframe tbody tr th {\n        vertical-align: top;\n    }\n\n    .dataframe thead th {\n        text-align: right;\n    }\n</style>\n<table border=\"1\" class=\"dataframe\">\n  <thead>\n    <tr style=\"text-align: right;\">\n      <th></th>\n      <th>Model</th>\n      <th>Length Keyword (Avg)</th>\n      <th>Length Generated (Avg)</th>\n      <th>Length Human (Avg)</th>\n      <th>Length Keyword (Dev)</th>\n      <th>Length Generated (Dev)</th>\n      <th>Length Human (Dev)</th>\n    </tr>\n  </thead>\n  <tbody>\n    <tr>\n      <th>0</th>\n      <td>FT - HQ</td>\n      <td>2.5039</td>\n      <td>7.0469</td>\n      <td>6.6445</td>\n      <td>1.6966</td>\n      <td>3.2050</td>\n      <td>3.4269</td>\n    </tr>\n    <tr>\n      <th>1</th>\n      <td>FT - CR</td>\n      <td>2.5091</td>\n      <td>14.3600</td>\n      <td>6.8982</td>\n      <td>1.1569</td>\n      <td>7.0848</td>\n      <td>3.4962</td>\n    </tr>\n    <tr>\n      <th>2</th>\n      <td>FT - XL</td>\n      <td>2.5038</td>\n      <td>8.0568</td>\n      <td>6.7955</td>\n      <td>1.2209</td>\n      <td>4.0903</td>\n      <td>3.5147</td>\n    </tr>\n    <tr>\n      <th>3</th>\n      <td>STOCK - 1</td>\n      <td>2.6340</td>\n      <td>15.5019</td>\n      <td>7.2415</td>\n      <td>1.8905</td>\n      <td>7.6994</td>\n      <td>4.3487</td>\n    </tr>\n    <tr>\n      <th>4</th>\n      <td>STOCK - 2</td>\n      <td>2.5331</td>\n      <td>8.2568</td>\n      <td>6.8833</td>\n      <td>1.2311</td>\n      <td>3.3395</td>\n      <td>3.5699</td>\n    </tr>\n  </tbody>\n</table>\n</div>"
     },
     "metadata": {},
     "output_type": "display_data"
    }
   ],
   "source": [
    "\n",
    "dict = {'Model': [],\n",
    "        'Length Keyword (Avg)': [],\n",
    "        'Length Generated (Avg)': [],\n",
    "        'Length Human (Avg)': [],\n",
    "        'Length Keyword (Dev)': [],\n",
    "        'Length Generated (Dev)': [],\n",
    "        'Length Human (Dev)': []}\n",
    "\n",
    "for model in all_models:\n",
    "    dict['Model'].append(model)\n",
    "    dict['Length Generated (Avg)'].append(round(statistics.mean(eval_length[model]['length_created_answer']), 4))\n",
    "    dict['Length Keyword (Avg)'].append(round(statistics.mean(eval_length[model]['length_keywords']), 4))\n",
    "    dict['Length Human (Avg)'].append(round(statistics.mean(eval_length[model]['length_human_answer']), 4))\n",
    "    dict['Length Generated (Dev)'].append(round(statistics.stdev(eval_length[model]['length_created_answer']), 4))\n",
    "    dict['Length Keyword (Dev)'].append(round(statistics.stdev(eval_length[model]['length_keywords']), 4))\n",
    "    dict['Length Human (Dev)'].append(round(statistics.stdev(eval_length[model]['length_human_answer']), 4))\n",
    "\n",
    "df = pd.DataFrame(dict)\n",
    "\n",
    "display(df)\n",
    "#print(df.T.to_latex().replace(\"00\", \"\"))\n"
   ],
   "metadata": {
    "collapsed": false,
    "ExecuteTime": {
     "start_time": "2023-06-07T10:49:06.837145Z",
     "end_time": "2023-06-07T10:49:06.876752Z"
    }
   }
  },
  {
   "cell_type": "markdown",
   "source": [
    "## Length of history compared to ratings"
   ],
   "metadata": {
    "collapsed": false
   }
  },
  {
   "cell_type": "code",
   "execution_count": 28,
   "outputs": [
    {
     "data": {
      "text/plain": "       Model       2       4       6\n0    FT - HQ  4.5070  4.7083  4.6437\n1    FT - CR  4.3371  4.4588  4.3529\n2    FT - XL  4.4881  4.1358  4.2667\n3  STOCK - 1  4.0645  4.0811  4.1351\n4  STOCK - 2  4.2769  4.4235  4.3855",
      "text/html": "<div>\n<style scoped>\n    .dataframe tbody tr th:only-of-type {\n        vertical-align: middle;\n    }\n\n    .dataframe tbody tr th {\n        vertical-align: top;\n    }\n\n    .dataframe thead th {\n        text-align: right;\n    }\n</style>\n<table border=\"1\" class=\"dataframe\">\n  <thead>\n    <tr style=\"text-align: right;\">\n      <th></th>\n      <th>Model</th>\n      <th>2</th>\n      <th>4</th>\n      <th>6</th>\n    </tr>\n  </thead>\n  <tbody>\n    <tr>\n      <th>0</th>\n      <td>FT - HQ</td>\n      <td>4.5070</td>\n      <td>4.7083</td>\n      <td>4.6437</td>\n    </tr>\n    <tr>\n      <th>1</th>\n      <td>FT - CR</td>\n      <td>4.3371</td>\n      <td>4.4588</td>\n      <td>4.3529</td>\n    </tr>\n    <tr>\n      <th>2</th>\n      <td>FT - XL</td>\n      <td>4.4881</td>\n      <td>4.1358</td>\n      <td>4.2667</td>\n    </tr>\n    <tr>\n      <th>3</th>\n      <td>STOCK - 1</td>\n      <td>4.0645</td>\n      <td>4.0811</td>\n      <td>4.1351</td>\n    </tr>\n    <tr>\n      <th>4</th>\n      <td>STOCK - 2</td>\n      <td>4.2769</td>\n      <td>4.4235</td>\n      <td>4.3855</td>\n    </tr>\n  </tbody>\n</table>\n</div>"
     },
     "metadata": {},
     "output_type": "display_data"
    }
   ],
   "source": [
    "dict = {'Model': [],\n",
    "        '2': [],\n",
    "        '4': [],\n",
    "        '6': []}\n",
    "\n",
    "for model in all_models:\n",
    "    dict['Model'].append(model)\n",
    "    for rate in different_lengths:\n",
    "        if rate == '8':\n",
    "            continue\n",
    "        dict[rate].append(round(statistics.mean(length_compared_to_scores[model][str(rate)]['HUMAN']), 4))\n",
    "df = pd.DataFrame(dict)\n",
    "\n",
    "display(df)\n",
    "#print(df.to_latex().replace(\"00\", \"\"))"
   ],
   "metadata": {
    "collapsed": false,
    "ExecuteTime": {
     "start_time": "2023-06-07T10:49:06.859020Z",
     "end_time": "2023-06-07T10:49:06.929701Z"
    }
   }
  },
  {
   "cell_type": "markdown",
   "source": [
    "### Standard Deviation"
   ],
   "metadata": {
    "collapsed": false
   }
  },
  {
   "cell_type": "code",
   "execution_count": 29,
   "outputs": [
    {
     "data": {
      "text/plain": "       Model       2       4       6\n0    FT - HQ  0.7723  0.6152  0.6643\n1    FT - CR  1.0329  0.8668  1.0476\n2    FT - XL  0.8430  1.1153  1.0946\n3  STOCK - 1  1.1869  1.2470  1.1742\n4  STOCK - 2  1.1793  0.8363  1.0688",
      "text/html": "<div>\n<style scoped>\n    .dataframe tbody tr th:only-of-type {\n        vertical-align: middle;\n    }\n\n    .dataframe tbody tr th {\n        vertical-align: top;\n    }\n\n    .dataframe thead th {\n        text-align: right;\n    }\n</style>\n<table border=\"1\" class=\"dataframe\">\n  <thead>\n    <tr style=\"text-align: right;\">\n      <th></th>\n      <th>Model</th>\n      <th>2</th>\n      <th>4</th>\n      <th>6</th>\n    </tr>\n  </thead>\n  <tbody>\n    <tr>\n      <th>0</th>\n      <td>FT - HQ</td>\n      <td>0.7723</td>\n      <td>0.6152</td>\n      <td>0.6643</td>\n    </tr>\n    <tr>\n      <th>1</th>\n      <td>FT - CR</td>\n      <td>1.0329</td>\n      <td>0.8668</td>\n      <td>1.0476</td>\n    </tr>\n    <tr>\n      <th>2</th>\n      <td>FT - XL</td>\n      <td>0.8430</td>\n      <td>1.1153</td>\n      <td>1.0946</td>\n    </tr>\n    <tr>\n      <th>3</th>\n      <td>STOCK - 1</td>\n      <td>1.1869</td>\n      <td>1.2470</td>\n      <td>1.1742</td>\n    </tr>\n    <tr>\n      <th>4</th>\n      <td>STOCK - 2</td>\n      <td>1.1793</td>\n      <td>0.8363</td>\n      <td>1.0688</td>\n    </tr>\n  </tbody>\n</table>\n</div>"
     },
     "metadata": {},
     "output_type": "display_data"
    }
   ],
   "source": [
    "dict = {'Model': [],\n",
    "        '2': [],\n",
    "        '4': [],\n",
    "        '6': []}\n",
    "\n",
    "for model in all_models:\n",
    "    dict['Model'].append(model)\n",
    "    for rate in different_lengths:\n",
    "        if rate == '8':\n",
    "            continue\n",
    "        dict[rate].append(round(statistics.stdev(length_compared_to_scores[model][str(rate)]['HUMAN']), 4))\n",
    "df = pd.DataFrame(dict)\n",
    "\n",
    "display(df)\n",
    "#print(df.to_latex().replace(\"00\", \"\"))"
   ],
   "metadata": {
    "collapsed": false,
    "ExecuteTime": {
     "start_time": "2023-06-07T10:49:06.886384Z",
     "end_time": "2023-06-07T10:49:06.973219Z"
    }
   }
  },
  {
   "cell_type": "markdown",
   "source": [
    "## Rating compared to amount of keywords"
   ],
   "metadata": {
    "collapsed": false
   }
  },
  {
   "cell_type": "code",
   "execution_count": 30,
   "outputs": [
    {
     "name": "stdout",
     "output_type": "stream",
     "text": [
      "Means\n"
     ]
    },
    {
     "data": {
      "text/plain": "       Model       1       2       3       4       5\n0    FT - HQ  4.5319  4.7586  4.4912  4.6207  4.6667\n1    FT - CR  4.4186  4.4433  4.3273  4.4400  4.1739\n2    FT - XL  4.2045  4.4565  4.1875  4.6364  3.8000\n3  STOCK - 1  4.2245  4.1932  3.7667  4.1667  4.2000\n4  STOCK - 2  4.5000  4.5059  4.3651  3.8077  4.1538",
      "text/html": "<div>\n<style scoped>\n    .dataframe tbody tr th:only-of-type {\n        vertical-align: middle;\n    }\n\n    .dataframe tbody tr th {\n        vertical-align: top;\n    }\n\n    .dataframe thead th {\n        text-align: right;\n    }\n</style>\n<table border=\"1\" class=\"dataframe\">\n  <thead>\n    <tr style=\"text-align: right;\">\n      <th></th>\n      <th>Model</th>\n      <th>1</th>\n      <th>2</th>\n      <th>3</th>\n      <th>4</th>\n      <th>5</th>\n    </tr>\n  </thead>\n  <tbody>\n    <tr>\n      <th>0</th>\n      <td>FT - HQ</td>\n      <td>4.5319</td>\n      <td>4.7586</td>\n      <td>4.4912</td>\n      <td>4.6207</td>\n      <td>4.6667</td>\n    </tr>\n    <tr>\n      <th>1</th>\n      <td>FT - CR</td>\n      <td>4.4186</td>\n      <td>4.4433</td>\n      <td>4.3273</td>\n      <td>4.4400</td>\n      <td>4.1739</td>\n    </tr>\n    <tr>\n      <th>2</th>\n      <td>FT - XL</td>\n      <td>4.2045</td>\n      <td>4.4565</td>\n      <td>4.1875</td>\n      <td>4.6364</td>\n      <td>3.8000</td>\n    </tr>\n    <tr>\n      <th>3</th>\n      <td>STOCK - 1</td>\n      <td>4.2245</td>\n      <td>4.1932</td>\n      <td>3.7667</td>\n      <td>4.1667</td>\n      <td>4.2000</td>\n    </tr>\n    <tr>\n      <th>4</th>\n      <td>STOCK - 2</td>\n      <td>4.5000</td>\n      <td>4.5059</td>\n      <td>4.3651</td>\n      <td>3.8077</td>\n      <td>4.1538</td>\n    </tr>\n  </tbody>\n</table>\n</div>"
     },
     "metadata": {},
     "output_type": "display_data"
    },
    {
     "name": "stdout",
     "output_type": "stream",
     "text": [
      "Standard Deviation\n"
     ]
    },
    {
     "data": {
      "text/plain": "       Model       1       2       3       4       5\n0    FT - HQ  0.6203  0.5899  0.8686  0.6219  0.7071\n1    FT - CR  0.9570  0.9125  1.0725  1.0033  1.0725\n2    FT - XL  0.9784  0.9068  1.1391  0.6580  1.3611\n3  STOCK - 1  0.9189  1.0706  1.4999  1.2039  1.2397\n4  STOCK - 2  0.7817  0.8398  1.1260  1.3272  1.3445",
      "text/html": "<div>\n<style scoped>\n    .dataframe tbody tr th:only-of-type {\n        vertical-align: middle;\n    }\n\n    .dataframe tbody tr th {\n        vertical-align: top;\n    }\n\n    .dataframe thead th {\n        text-align: right;\n    }\n</style>\n<table border=\"1\" class=\"dataframe\">\n  <thead>\n    <tr style=\"text-align: right;\">\n      <th></th>\n      <th>Model</th>\n      <th>1</th>\n      <th>2</th>\n      <th>3</th>\n      <th>4</th>\n      <th>5</th>\n    </tr>\n  </thead>\n  <tbody>\n    <tr>\n      <th>0</th>\n      <td>FT - HQ</td>\n      <td>0.6203</td>\n      <td>0.5899</td>\n      <td>0.8686</td>\n      <td>0.6219</td>\n      <td>0.7071</td>\n    </tr>\n    <tr>\n      <th>1</th>\n      <td>FT - CR</td>\n      <td>0.9570</td>\n      <td>0.9125</td>\n      <td>1.0725</td>\n      <td>1.0033</td>\n      <td>1.0725</td>\n    </tr>\n    <tr>\n      <th>2</th>\n      <td>FT - XL</td>\n      <td>0.9784</td>\n      <td>0.9068</td>\n      <td>1.1391</td>\n      <td>0.6580</td>\n      <td>1.3611</td>\n    </tr>\n    <tr>\n      <th>3</th>\n      <td>STOCK - 1</td>\n      <td>0.9189</td>\n      <td>1.0706</td>\n      <td>1.4999</td>\n      <td>1.2039</td>\n      <td>1.2397</td>\n    </tr>\n    <tr>\n      <th>4</th>\n      <td>STOCK - 2</td>\n      <td>0.7817</td>\n      <td>0.8398</td>\n      <td>1.1260</td>\n      <td>1.3272</td>\n      <td>1.3445</td>\n    </tr>\n  </tbody>\n</table>\n</div>"
     },
     "metadata": {},
     "output_type": "display_data"
    },
    {
     "name": "stdout",
     "output_type": "stream",
     "text": [
      "Amounts\n"
     ]
    },
    {
     "data": {
      "text/plain": "       Model   1   2   3   4   5\n0    FT - HQ  47  87  57  29   9\n1    FT - CR  43  97  55  25  23\n2    FT - XL  44  92  64  22  20\n3  STOCK - 1  49  88  60  24  20\n4  STOCK - 2  46  85  63  26  13",
      "text/html": "<div>\n<style scoped>\n    .dataframe tbody tr th:only-of-type {\n        vertical-align: middle;\n    }\n\n    .dataframe tbody tr th {\n        vertical-align: top;\n    }\n\n    .dataframe thead th {\n        text-align: right;\n    }\n</style>\n<table border=\"1\" class=\"dataframe\">\n  <thead>\n    <tr style=\"text-align: right;\">\n      <th></th>\n      <th>Model</th>\n      <th>1</th>\n      <th>2</th>\n      <th>3</th>\n      <th>4</th>\n      <th>5</th>\n    </tr>\n  </thead>\n  <tbody>\n    <tr>\n      <th>0</th>\n      <td>FT - HQ</td>\n      <td>47</td>\n      <td>87</td>\n      <td>57</td>\n      <td>29</td>\n      <td>9</td>\n    </tr>\n    <tr>\n      <th>1</th>\n      <td>FT - CR</td>\n      <td>43</td>\n      <td>97</td>\n      <td>55</td>\n      <td>25</td>\n      <td>23</td>\n    </tr>\n    <tr>\n      <th>2</th>\n      <td>FT - XL</td>\n      <td>44</td>\n      <td>92</td>\n      <td>64</td>\n      <td>22</td>\n      <td>20</td>\n    </tr>\n    <tr>\n      <th>3</th>\n      <td>STOCK - 1</td>\n      <td>49</td>\n      <td>88</td>\n      <td>60</td>\n      <td>24</td>\n      <td>20</td>\n    </tr>\n    <tr>\n      <th>4</th>\n      <td>STOCK - 2</td>\n      <td>46</td>\n      <td>85</td>\n      <td>63</td>\n      <td>26</td>\n      <td>13</td>\n    </tr>\n  </tbody>\n</table>\n</div>"
     },
     "metadata": {},
     "output_type": "display_data"
    }
   ],
   "source": [
    "dict = {'Model': [],\n",
    "        # '0' : [],\n",
    "        '1': [],\n",
    "        '2': [],\n",
    "        '3': [],\n",
    "        '4': [],\n",
    "        '5': []}\n",
    "\n",
    "for model in all_models:\n",
    "    dict['Model'].append(model)\n",
    "    for rate in number_of_keywords:\n",
    "        if rate == \"0\":\n",
    "            continue\n",
    "        if len(rating_compared_to_amount_keywords[model][str(rate)]['HUMAN (Punished)']) == 0:\n",
    "            continue\n",
    "        dict[rate].append(round(statistics.mean(rating_compared_to_amount_keywords[model][str(rate)]['HUMAN']), 4))\n",
    "df1 = pd.DataFrame({key: pd.Series(value) for key, value in dict.items()})\n",
    "\n",
    "dict = {'Model': [],\n",
    "        # '0' : [],\n",
    "        '1': [],\n",
    "        '2': [],\n",
    "        '3': [],\n",
    "        '4': [],\n",
    "        '5': []}\n",
    "\n",
    "for model in all_models:\n",
    "    dict['Model'].append(model)\n",
    "    for rate in number_of_keywords:\n",
    "        if rate == \"0\":\n",
    "            continue\n",
    "        if len(rating_compared_to_amount_keywords[model][str(rate)]['HUMAN (Punished)']) == 0:\n",
    "            continue\n",
    "        dict[rate].append(round(statistics.stdev(rating_compared_to_amount_keywords[model][str(rate)]['HUMAN']), 4))\n",
    "df2 = pd.DataFrame({key: pd.Series(value) for key, value in dict.items()})\n",
    "dict = {'Model': [],\n",
    "        # '0' : [],\n",
    "        '1': [],\n",
    "        '2': [],\n",
    "        '3': [],\n",
    "        '4': [],\n",
    "        '5': []}\n",
    "for model in all_models:\n",
    "    dict['Model'].append(model)\n",
    "    for rate in number_of_keywords:\n",
    "        if rate == \"0\":\n",
    "            continue\n",
    "        if len(rating_compared_to_amount_keywords[model][str(rate)]['HUMAN (Punished)']) == 0:\n",
    "            continue\n",
    "        dict[rate].append(len((rating_compared_to_amount_keywords[model][str(rate)]['HUMAN'])))\n",
    "df3 = pd.DataFrame({key: pd.Series(value) for key, value in dict.items()})\n",
    "\n",
    "print(\"Means\")\n",
    "display(df1)\n",
    "print(\"Standard Deviation\")\n",
    "display(df2)\n",
    "print(\"Amounts\")\n",
    "display(df3)\n",
    "\n",
    "#print(df1.to_latex().replace(\"00\", \"\"))\n",
    "#print(df2.to_latex().replace(\"00\", \"\"))\n",
    "#print(df3.to_latex().replace(\"00\", \"\"))"
   ],
   "metadata": {
    "collapsed": false,
    "ExecuteTime": {
     "start_time": "2023-06-07T10:49:06.898690Z",
     "end_time": "2023-06-07T10:49:07.001175Z"
    }
   }
  },
  {
   "cell_type": "markdown",
   "source": [
    "## Runtime"
   ],
   "metadata": {
    "collapsed": false
   }
  },
  {
   "cell_type": "code",
   "execution_count": 31,
   "outputs": [
    {
     "data": {
      "text/plain": "       Model  Runtime (Avg)  Runtime (Dev)\n0    FT - HQ         1.0101         0.5439\n1    FT - CR         1.1816         0.6709\n2    FT - XL         0.9568         0.5193\n3  STOCK - 1         1.2220         0.6747\n4  STOCK - 2         0.9204         0.5231",
      "text/html": "<div>\n<style scoped>\n    .dataframe tbody tr th:only-of-type {\n        vertical-align: middle;\n    }\n\n    .dataframe tbody tr th {\n        vertical-align: top;\n    }\n\n    .dataframe thead th {\n        text-align: right;\n    }\n</style>\n<table border=\"1\" class=\"dataframe\">\n  <thead>\n    <tr style=\"text-align: right;\">\n      <th></th>\n      <th>Model</th>\n      <th>Runtime (Avg)</th>\n      <th>Runtime (Dev)</th>\n    </tr>\n  </thead>\n  <tbody>\n    <tr>\n      <th>0</th>\n      <td>FT - HQ</td>\n      <td>1.0101</td>\n      <td>0.5439</td>\n    </tr>\n    <tr>\n      <th>1</th>\n      <td>FT - CR</td>\n      <td>1.1816</td>\n      <td>0.6709</td>\n    </tr>\n    <tr>\n      <th>2</th>\n      <td>FT - XL</td>\n      <td>0.9568</td>\n      <td>0.5193</td>\n    </tr>\n    <tr>\n      <th>3</th>\n      <td>STOCK - 1</td>\n      <td>1.2220</td>\n      <td>0.6747</td>\n    </tr>\n    <tr>\n      <th>4</th>\n      <td>STOCK - 2</td>\n      <td>0.9204</td>\n      <td>0.5231</td>\n    </tr>\n  </tbody>\n</table>\n</div>"
     },
     "metadata": {},
     "output_type": "display_data"
    }
   ],
   "source": [
    "# print(eval_runtime)\n",
    "\n",
    "dict = {'Model': [],\n",
    "        'Runtime (Avg)': [],\n",
    "        'Runtime (Dev)': []}\n",
    "\n",
    "# Bereinigt\n",
    "for model in all_models:\n",
    "    for runtime in eval_runtime[model]:\n",
    "        if runtime > 100:\n",
    "            eval_runtime[model].remove(runtime)\n",
    "\n",
    "for model in all_models:\n",
    "    dict['Model'].append(model)\n",
    "    dict['Runtime (Avg)'].append(round(statistics.mean(eval_runtime[model]), 4))\n",
    "    dict['Runtime (Dev)'].append(round(statistics.stdev(eval_runtime[model]), 4))\n",
    "df = pd.DataFrame({key: pd.Series(value) for key, value in dict.items()})\n",
    "\n",
    "display(df)\n",
    "#print(df.to_latex().replace(\"00\", \"\"))"
   ],
   "metadata": {
    "collapsed": false,
    "ExecuteTime": {
     "start_time": "2023-06-07T10:49:06.939163Z",
     "end_time": "2023-06-07T10:49:07.001371Z"
    }
   }
  },
  {
   "cell_type": "markdown",
   "source": [
    "## Rating Compared to scenario"
   ],
   "metadata": {
    "collapsed": false
   }
  },
  {
   "cell_type": "code",
   "execution_count": 32,
   "outputs": [
    {
     "name": "stdout",
     "output_type": "stream",
     "text": [
      "Means\n"
     ]
    },
    {
     "data": {
      "text/plain": "       Model    open  defined\n0    FT - HQ  4.5652   4.6783\n1    FT - CR  4.4123   4.3643\n2    FT - XL  4.3197   4.2833\n3  STOCK - 1  4.0463   4.1278\n4  STOCK - 2  4.3017   4.4359",
      "text/html": "<div>\n<style scoped>\n    .dataframe tbody tr th:only-of-type {\n        vertical-align: middle;\n    }\n\n    .dataframe tbody tr th {\n        vertical-align: top;\n    }\n\n    .dataframe thead th {\n        text-align: right;\n    }\n</style>\n<table border=\"1\" class=\"dataframe\">\n  <thead>\n    <tr style=\"text-align: right;\">\n      <th></th>\n      <th>Model</th>\n      <th>open</th>\n      <th>defined</th>\n    </tr>\n  </thead>\n  <tbody>\n    <tr>\n      <th>0</th>\n      <td>FT - HQ</td>\n      <td>4.5652</td>\n      <td>4.6783</td>\n    </tr>\n    <tr>\n      <th>1</th>\n      <td>FT - CR</td>\n      <td>4.4123</td>\n      <td>4.3643</td>\n    </tr>\n    <tr>\n      <th>2</th>\n      <td>FT - XL</td>\n      <td>4.3197</td>\n      <td>4.2833</td>\n    </tr>\n    <tr>\n      <th>3</th>\n      <td>STOCK - 1</td>\n      <td>4.0463</td>\n      <td>4.1278</td>\n    </tr>\n    <tr>\n      <th>4</th>\n      <td>STOCK - 2</td>\n      <td>4.3017</td>\n      <td>4.4359</td>\n    </tr>\n  </tbody>\n</table>\n</div>"
     },
     "metadata": {},
     "output_type": "display_data"
    },
    {
     "name": "stdout",
     "output_type": "stream",
     "text": [
      "Standard Deviation\n"
     ]
    },
    {
     "data": {
      "text/plain": "       Model    open  defined\n0    FT - HQ  0.7271   0.6427\n1    FT - CR  0.9483   1.0073\n2    FT - XL  1.0307   1.0223\n3  STOCK - 1  1.1791   1.2149\n4  STOCK - 2  1.0402   1.0033",
      "text/html": "<div>\n<style scoped>\n    .dataframe tbody tr th:only-of-type {\n        vertical-align: middle;\n    }\n\n    .dataframe tbody tr th {\n        vertical-align: top;\n    }\n\n    .dataframe thead th {\n        text-align: right;\n    }\n</style>\n<table border=\"1\" class=\"dataframe\">\n  <thead>\n    <tr style=\"text-align: right;\">\n      <th></th>\n      <th>Model</th>\n      <th>open</th>\n      <th>defined</th>\n    </tr>\n  </thead>\n  <tbody>\n    <tr>\n      <th>0</th>\n      <td>FT - HQ</td>\n      <td>0.7271</td>\n      <td>0.6427</td>\n    </tr>\n    <tr>\n      <th>1</th>\n      <td>FT - CR</td>\n      <td>0.9483</td>\n      <td>1.0073</td>\n    </tr>\n    <tr>\n      <th>2</th>\n      <td>FT - XL</td>\n      <td>1.0307</td>\n      <td>1.0223</td>\n    </tr>\n    <tr>\n      <th>3</th>\n      <td>STOCK - 1</td>\n      <td>1.1791</td>\n      <td>1.2149</td>\n    </tr>\n    <tr>\n      <th>4</th>\n      <td>STOCK - 2</td>\n      <td>1.0402</td>\n      <td>1.0033</td>\n    </tr>\n  </tbody>\n</table>\n</div>"
     },
     "metadata": {},
     "output_type": "display_data"
    }
   ],
   "source": [
    "\n",
    "different_scenario_type = [\"open\",\n",
    "                           \"defined\"\n",
    "                           ]\n",
    "\n",
    "dict = {'Model': [],\n",
    "        'open': [],\n",
    "        'defined': []}\n",
    "\n",
    "for model in all_models:\n",
    "    dict['Model'].append(model)\n",
    "    for rate in different_scenario_type:\n",
    "        dict[rate].append(round(statistics.mean(rating_compared_scenarios_open_closed[model][str(rate)]['HUMAN']), 4))\n",
    "df1 = pd.DataFrame({key: pd.Series(value) for key, value in dict.items()})\n",
    "\n",
    "dict = {'Model': [],\n",
    "        'open': [],\n",
    "        'defined': []}\n",
    "\n",
    "for model in all_models:\n",
    "    dict['Model'].append(model)\n",
    "    for rate in different_scenario_type:\n",
    "        dict[rate].append(round(statistics.stdev(rating_compared_scenarios_open_closed[model][str(rate)]['HUMAN']), 4))\n",
    "df2 = pd.DataFrame({key: pd.Series(value) for key, value in dict.items()})\n",
    "\n",
    "print(\"Means\")\n",
    "display(df1)\n",
    "print(\"Standard Deviation\")\n",
    "display(df2)\n",
    "#print(df1.to_latex().replace(\"00\", \"\"))\n",
    "#print(df2.to_latex().replace(\"00\", \"\"))"
   ],
   "metadata": {
    "collapsed": false,
    "ExecuteTime": {
     "start_time": "2023-06-07T10:49:06.953743Z",
     "end_time": "2023-06-07T10:49:07.001962Z"
    }
   }
  },
  {
   "cell_type": "code",
   "execution_count": 33,
   "outputs": [
    {
     "name": "stdout",
     "output_type": "stream",
     "text": [
      "Means\n"
     ]
    },
    {
     "data": {
      "text/plain": "       Model    0       1       2       3       4       5       6       7  \\\n0    FT - HQ  NaN  4.7200  4.6207  4.7500  4.6757  4.4800  4.6667  4.7083   \n1    FT - CR  NaN  4.6071  4.4483  4.5000  4.3659  4.5517  4.2759  4.0645   \n2    FT - XL  NaN  4.4062  4.1379  4.2424  4.3667  4.3333  4.4828  4.2069   \n3  STOCK - 1  NaN  4.0278  4.2759  3.9688  4.0769  4.2222  4.0556  4.1724   \n4  STOCK - 2  NaN  4.2500  4.5946  4.2143  4.3000  4.3913  4.3636  4.5000   \n\n        8  \n0  4.4359  \n1  4.3438  \n2  4.2424  \n3  3.9677  \n4  4.2500  ",
      "text/html": "<div>\n<style scoped>\n    .dataframe tbody tr th:only-of-type {\n        vertical-align: middle;\n    }\n\n    .dataframe tbody tr th {\n        vertical-align: top;\n    }\n\n    .dataframe thead th {\n        text-align: right;\n    }\n</style>\n<table border=\"1\" class=\"dataframe\">\n  <thead>\n    <tr style=\"text-align: right;\">\n      <th></th>\n      <th>Model</th>\n      <th>0</th>\n      <th>1</th>\n      <th>2</th>\n      <th>3</th>\n      <th>4</th>\n      <th>5</th>\n      <th>6</th>\n      <th>7</th>\n      <th>8</th>\n    </tr>\n  </thead>\n  <tbody>\n    <tr>\n      <th>0</th>\n      <td>FT - HQ</td>\n      <td>NaN</td>\n      <td>4.7200</td>\n      <td>4.6207</td>\n      <td>4.7500</td>\n      <td>4.6757</td>\n      <td>4.4800</td>\n      <td>4.6667</td>\n      <td>4.7083</td>\n      <td>4.4359</td>\n    </tr>\n    <tr>\n      <th>1</th>\n      <td>FT - CR</td>\n      <td>NaN</td>\n      <td>4.6071</td>\n      <td>4.4483</td>\n      <td>4.5000</td>\n      <td>4.3659</td>\n      <td>4.5517</td>\n      <td>4.2759</td>\n      <td>4.0645</td>\n      <td>4.3438</td>\n    </tr>\n    <tr>\n      <th>2</th>\n      <td>FT - XL</td>\n      <td>NaN</td>\n      <td>4.4062</td>\n      <td>4.1379</td>\n      <td>4.2424</td>\n      <td>4.3667</td>\n      <td>4.3333</td>\n      <td>4.4828</td>\n      <td>4.2069</td>\n      <td>4.2424</td>\n    </tr>\n    <tr>\n      <th>3</th>\n      <td>STOCK - 1</td>\n      <td>NaN</td>\n      <td>4.0278</td>\n      <td>4.2759</td>\n      <td>3.9688</td>\n      <td>4.0769</td>\n      <td>4.2222</td>\n      <td>4.0556</td>\n      <td>4.1724</td>\n      <td>3.9677</td>\n    </tr>\n    <tr>\n      <th>4</th>\n      <td>STOCK - 2</td>\n      <td>NaN</td>\n      <td>4.2500</td>\n      <td>4.5946</td>\n      <td>4.2143</td>\n      <td>4.3000</td>\n      <td>4.3913</td>\n      <td>4.3636</td>\n      <td>4.5000</td>\n      <td>4.2500</td>\n    </tr>\n  </tbody>\n</table>\n</div>"
     },
     "metadata": {},
     "output_type": "display_data"
    },
    {
     "name": "stdout",
     "output_type": "stream",
     "text": [
      "Standard Deviation\n"
     ]
    },
    {
     "data": {
      "text/plain": "       Model    0       1       2       3       4       5       6       7  \\\n0    FT - HQ  NaN  0.5416  0.7277  0.5316  0.6689  1.0050  0.5547  0.6241   \n1    FT - CR  NaN  0.6289  0.8696  0.8341  1.1781  0.9851  0.8408  1.1236   \n2    FT - XL  NaN  0.9791  1.0930  1.0906  0.8899  1.0000  0.9495  1.1458   \n3  STOCK - 1  NaN  1.2532  1.0986  1.1496  1.2223  1.1547  1.3921  1.3112   \n4  STOCK - 2  NaN  1.0195  0.8320  1.1007  1.1788  0.9881  1.0553  1.0086   \n\n        8  \n0  0.7180  \n1  1.0957  \n2  1.0906  \n3  1.1397  \n4  1.0473  ",
      "text/html": "<div>\n<style scoped>\n    .dataframe tbody tr th:only-of-type {\n        vertical-align: middle;\n    }\n\n    .dataframe tbody tr th {\n        vertical-align: top;\n    }\n\n    .dataframe thead th {\n        text-align: right;\n    }\n</style>\n<table border=\"1\" class=\"dataframe\">\n  <thead>\n    <tr style=\"text-align: right;\">\n      <th></th>\n      <th>Model</th>\n      <th>0</th>\n      <th>1</th>\n      <th>2</th>\n      <th>3</th>\n      <th>4</th>\n      <th>5</th>\n      <th>6</th>\n      <th>7</th>\n      <th>8</th>\n    </tr>\n  </thead>\n  <tbody>\n    <tr>\n      <th>0</th>\n      <td>FT - HQ</td>\n      <td>NaN</td>\n      <td>0.5416</td>\n      <td>0.7277</td>\n      <td>0.5316</td>\n      <td>0.6689</td>\n      <td>1.0050</td>\n      <td>0.5547</td>\n      <td>0.6241</td>\n      <td>0.7180</td>\n    </tr>\n    <tr>\n      <th>1</th>\n      <td>FT - CR</td>\n      <td>NaN</td>\n      <td>0.6289</td>\n      <td>0.8696</td>\n      <td>0.8341</td>\n      <td>1.1781</td>\n      <td>0.9851</td>\n      <td>0.8408</td>\n      <td>1.1236</td>\n      <td>1.0957</td>\n    </tr>\n    <tr>\n      <th>2</th>\n      <td>FT - XL</td>\n      <td>NaN</td>\n      <td>0.9791</td>\n      <td>1.0930</td>\n      <td>1.0906</td>\n      <td>0.8899</td>\n      <td>1.0000</td>\n      <td>0.9495</td>\n      <td>1.1458</td>\n      <td>1.0906</td>\n    </tr>\n    <tr>\n      <th>3</th>\n      <td>STOCK - 1</td>\n      <td>NaN</td>\n      <td>1.2532</td>\n      <td>1.0986</td>\n      <td>1.1496</td>\n      <td>1.2223</td>\n      <td>1.1547</td>\n      <td>1.3921</td>\n      <td>1.3112</td>\n      <td>1.1397</td>\n    </tr>\n    <tr>\n      <th>4</th>\n      <td>STOCK - 2</td>\n      <td>NaN</td>\n      <td>1.0195</td>\n      <td>0.8320</td>\n      <td>1.1007</td>\n      <td>1.1788</td>\n      <td>0.9881</td>\n      <td>1.0553</td>\n      <td>1.0086</td>\n      <td>1.0473</td>\n    </tr>\n  </tbody>\n</table>\n</div>"
     },
     "metadata": {},
     "output_type": "display_data"
    }
   ],
   "source": [
    "\n",
    "dict = {'Model': [],\n",
    "        '0': [],\n",
    "        '1': [],\n",
    "        '2': [],\n",
    "        '3': [],\n",
    "        '4': [],\n",
    "        '5': [],\n",
    "        '6': [],\n",
    "        '7': [],\n",
    "        '8': []}\n",
    "\n",
    "for model in all_models:\n",
    "    dict['Model'].append(model)\n",
    "    for rate in different_scenario_numbers:\n",
    "        dict[rate].append(round(statistics.mean(rating_compared_scenarios_all[model][str(rate)]['HUMAN']), 4))\n",
    "df1 = pd.DataFrame({key: pd.Series(value) for key, value in dict.items()})\n",
    "\n",
    "dict = {'Model': [],\n",
    "        '0': [],\n",
    "        '1': [],\n",
    "        '2': [],\n",
    "        '3': [],\n",
    "        '4': [],\n",
    "        '5': [],\n",
    "        '6': [],\n",
    "        '7': [],\n",
    "        '8': []}\n",
    "\n",
    "for model in all_models:\n",
    "    dict['Model'].append(model)\n",
    "    for rate in different_scenario_numbers:\n",
    "        dict[rate].append(round(statistics.stdev(rating_compared_scenarios_all[model][str(rate)]['HUMAN']), 4))\n",
    "df2 = pd.DataFrame({key: pd.Series(value) for key, value in dict.items()})\n",
    "\n",
    "print(\"Means\")\n",
    "display(df1)\n",
    "print(\"Standard Deviation\")\n",
    "display(df2)\n",
    "#print(df1.to_latex().replace(\"00\", \"\"))\n",
    "#print(df2.to_latex().replace(\"00\", \"\"))\n"
   ],
   "metadata": {
    "collapsed": false,
    "ExecuteTime": {
     "start_time": "2023-06-07T10:49:06.977471Z",
     "end_time": "2023-06-07T10:49:07.061914Z"
    }
   }
  },
  {
   "cell_type": "markdown",
   "source": [
    "## Keyword tools"
   ],
   "metadata": {
    "collapsed": false
   }
  },
  {
   "cell_type": "code",
   "execution_count": 34,
   "outputs": [
    {
     "data": {
      "text/plain": "                                      0       1                2       3\nModel                           KeyBERT    YAKE  YAKE (Detailed)   HUMAN\nscore_created_in_given           0.6541   0.686           0.5896     1.0\nscore_given_in_created           0.7355  0.6547           0.6175     1.0\nscore_classifier_created_given    0.858  0.7918           0.7514  0.9923\nscore_classifier_given_created   0.8583  0.8012           0.8083  0.9923\nBERT                             0.7772  0.7495           0.7227     1.0\nFUZZ                             0.7228  0.5574           0.6297     1.0\nJARO                             0.7404  0.6243           0.6713     1.0\nBLEU                             0.5673  0.5475           0.4593     1.0\nMETEOR                           0.5547  0.4049           0.4139  0.8735\nROUGE                            0.6647   0.642           0.5648     1.0\nSPACY                            0.7462  0.7092           0.6255     1.0\nAverage                          0.7163  0.6517           0.6231  0.9871",
      "text/html": "<div>\n<style scoped>\n    .dataframe tbody tr th:only-of-type {\n        vertical-align: middle;\n    }\n\n    .dataframe tbody tr th {\n        vertical-align: top;\n    }\n\n    .dataframe thead th {\n        text-align: right;\n    }\n</style>\n<table border=\"1\" class=\"dataframe\">\n  <thead>\n    <tr style=\"text-align: right;\">\n      <th></th>\n      <th>0</th>\n      <th>1</th>\n      <th>2</th>\n      <th>3</th>\n    </tr>\n  </thead>\n  <tbody>\n    <tr>\n      <th>Model</th>\n      <td>KeyBERT</td>\n      <td>YAKE</td>\n      <td>YAKE (Detailed)</td>\n      <td>HUMAN</td>\n    </tr>\n    <tr>\n      <th>score_created_in_given</th>\n      <td>0.6541</td>\n      <td>0.686</td>\n      <td>0.5896</td>\n      <td>1.0</td>\n    </tr>\n    <tr>\n      <th>score_given_in_created</th>\n      <td>0.7355</td>\n      <td>0.6547</td>\n      <td>0.6175</td>\n      <td>1.0</td>\n    </tr>\n    <tr>\n      <th>score_classifier_created_given</th>\n      <td>0.858</td>\n      <td>0.7918</td>\n      <td>0.7514</td>\n      <td>0.9923</td>\n    </tr>\n    <tr>\n      <th>score_classifier_given_created</th>\n      <td>0.8583</td>\n      <td>0.8012</td>\n      <td>0.8083</td>\n      <td>0.9923</td>\n    </tr>\n    <tr>\n      <th>BERT</th>\n      <td>0.7772</td>\n      <td>0.7495</td>\n      <td>0.7227</td>\n      <td>1.0</td>\n    </tr>\n    <tr>\n      <th>FUZZ</th>\n      <td>0.7228</td>\n      <td>0.5574</td>\n      <td>0.6297</td>\n      <td>1.0</td>\n    </tr>\n    <tr>\n      <th>JARO</th>\n      <td>0.7404</td>\n      <td>0.6243</td>\n      <td>0.6713</td>\n      <td>1.0</td>\n    </tr>\n    <tr>\n      <th>BLEU</th>\n      <td>0.5673</td>\n      <td>0.5475</td>\n      <td>0.4593</td>\n      <td>1.0</td>\n    </tr>\n    <tr>\n      <th>METEOR</th>\n      <td>0.5547</td>\n      <td>0.4049</td>\n      <td>0.4139</td>\n      <td>0.8735</td>\n    </tr>\n    <tr>\n      <th>ROUGE</th>\n      <td>0.6647</td>\n      <td>0.642</td>\n      <td>0.5648</td>\n      <td>1.0</td>\n    </tr>\n    <tr>\n      <th>SPACY</th>\n      <td>0.7462</td>\n      <td>0.7092</td>\n      <td>0.6255</td>\n      <td>1.0</td>\n    </tr>\n    <tr>\n      <th>Average</th>\n      <td>0.7163</td>\n      <td>0.6517</td>\n      <td>0.6231</td>\n      <td>0.9871</td>\n    </tr>\n  </tbody>\n</table>\n</div>"
     },
     "metadata": {},
     "output_type": "display_data"
    }
   ],
   "source": [
    "mean_counter = {\n",
    "    \"KeyBERT\": [],\n",
    "    \"YAKE\": [],\n",
    "    \"YAKE (Detailed)\": [],\n",
    "    \"HUMAN\": []\n",
    "}\n",
    "\n",
    "for keyword_method in all_keyword_methods:\n",
    "    for classifiers in all_classifiers:\n",
    "        mean_counter[keyword_method].append(statistics.mean(keywords_eval[keyword_method][classifiers]))\n",
    "\n",
    "dict = {'Model': [],\n",
    "        'score_created_in_given': [],\n",
    "        'score_given_in_created': [],\n",
    "        'score_classifier_created_given': [],\n",
    "        'score_classifier_given_created': [],\n",
    "        'BERT': [],\n",
    "        'FUZZ': [],\n",
    "        'JARO': [],\n",
    "        'BLEU': [],\n",
    "        'METEOR': [],\n",
    "        'ROUGE': [],\n",
    "        'SPACY': [],\n",
    "        'Average': []\n",
    "        }\n",
    "\n",
    "for keyword_method in all_keyword_methods:\n",
    "    dict['Model'].append(keyword_method)\n",
    "    for classifiers in all_classifiers:\n",
    "        dict[classifiers].append(round(statistics.mean(keywords_eval[keyword_method][classifiers]), 4))\n",
    "    dict['Average'].append(round(statistics.mean(mean_counter[keyword_method]), 4))\n",
    "df = pd.DataFrame({key: pd.Series(value) for key, value in dict.items()})\n",
    "\n",
    "display(df.T)\n",
    "#print(df.T.to_latex().replace(\"00\", \"\"))"
   ],
   "metadata": {
    "collapsed": false,
    "ExecuteTime": {
     "start_time": "2023-06-07T10:49:07.056316Z",
     "end_time": "2023-06-07T10:49:07.245729Z"
    }
   }
  },
  {
   "cell_type": "markdown",
   "source": [
    "### Standard Deviation"
   ],
   "metadata": {
    "collapsed": false
   }
  },
  {
   "cell_type": "code",
   "execution_count": 35,
   "outputs": [
    {
     "data": {
      "text/plain": "                                      0       1                2       3\nModel                           KeyBERT    YAKE  YAKE (Detailed)   HUMAN\nscore_created_in_given           0.3202  0.3637           0.3572     0.0\nscore_given_in_created           0.3235  0.3537           0.3692     0.0\nscore_classifier_created_given   0.2926  0.3544           0.3651  0.0427\nscore_classifier_given_created   0.2673  0.3361           0.3352  0.0427\nBERT                             0.2119  0.2336           0.2452     0.0\nFUZZ                             0.2328  0.2515           0.2886     0.0\nJARO                              0.238  0.2664           0.2867     0.0\nBLEU                             0.3038    0.34           0.3159     0.0\nMETEOR                           0.3161  0.2587           0.2941  0.1849\nROUGE                            0.2831  0.3249           0.3149     0.0\nSPACY                            0.2615  0.3213           0.3034     0.0\nAverage                          0.1004  0.1173           0.1176  0.0378",
      "text/html": "<div>\n<style scoped>\n    .dataframe tbody tr th:only-of-type {\n        vertical-align: middle;\n    }\n\n    .dataframe tbody tr th {\n        vertical-align: top;\n    }\n\n    .dataframe thead th {\n        text-align: right;\n    }\n</style>\n<table border=\"1\" class=\"dataframe\">\n  <thead>\n    <tr style=\"text-align: right;\">\n      <th></th>\n      <th>0</th>\n      <th>1</th>\n      <th>2</th>\n      <th>3</th>\n    </tr>\n  </thead>\n  <tbody>\n    <tr>\n      <th>Model</th>\n      <td>KeyBERT</td>\n      <td>YAKE</td>\n      <td>YAKE (Detailed)</td>\n      <td>HUMAN</td>\n    </tr>\n    <tr>\n      <th>score_created_in_given</th>\n      <td>0.3202</td>\n      <td>0.3637</td>\n      <td>0.3572</td>\n      <td>0.0</td>\n    </tr>\n    <tr>\n      <th>score_given_in_created</th>\n      <td>0.3235</td>\n      <td>0.3537</td>\n      <td>0.3692</td>\n      <td>0.0</td>\n    </tr>\n    <tr>\n      <th>score_classifier_created_given</th>\n      <td>0.2926</td>\n      <td>0.3544</td>\n      <td>0.3651</td>\n      <td>0.0427</td>\n    </tr>\n    <tr>\n      <th>score_classifier_given_created</th>\n      <td>0.2673</td>\n      <td>0.3361</td>\n      <td>0.3352</td>\n      <td>0.0427</td>\n    </tr>\n    <tr>\n      <th>BERT</th>\n      <td>0.2119</td>\n      <td>0.2336</td>\n      <td>0.2452</td>\n      <td>0.0</td>\n    </tr>\n    <tr>\n      <th>FUZZ</th>\n      <td>0.2328</td>\n      <td>0.2515</td>\n      <td>0.2886</td>\n      <td>0.0</td>\n    </tr>\n    <tr>\n      <th>JARO</th>\n      <td>0.238</td>\n      <td>0.2664</td>\n      <td>0.2867</td>\n      <td>0.0</td>\n    </tr>\n    <tr>\n      <th>BLEU</th>\n      <td>0.3038</td>\n      <td>0.34</td>\n      <td>0.3159</td>\n      <td>0.0</td>\n    </tr>\n    <tr>\n      <th>METEOR</th>\n      <td>0.3161</td>\n      <td>0.2587</td>\n      <td>0.2941</td>\n      <td>0.1849</td>\n    </tr>\n    <tr>\n      <th>ROUGE</th>\n      <td>0.2831</td>\n      <td>0.3249</td>\n      <td>0.3149</td>\n      <td>0.0</td>\n    </tr>\n    <tr>\n      <th>SPACY</th>\n      <td>0.2615</td>\n      <td>0.3213</td>\n      <td>0.3034</td>\n      <td>0.0</td>\n    </tr>\n    <tr>\n      <th>Average</th>\n      <td>0.1004</td>\n      <td>0.1173</td>\n      <td>0.1176</td>\n      <td>0.0378</td>\n    </tr>\n  </tbody>\n</table>\n</div>"
     },
     "metadata": {},
     "output_type": "display_data"
    }
   ],
   "source": [
    "mean_counter = {\n",
    "    \"KeyBERT\": [],\n",
    "    \"YAKE\": [],\n",
    "    \"YAKE (Detailed)\": [],\n",
    "    \"HUMAN\": []\n",
    "}\n",
    "\n",
    "for keyword_method in all_keyword_methods:\n",
    "    for classifiers in all_classifiers:\n",
    "        mean_counter[keyword_method].append(statistics.mean(keywords_eval[keyword_method][classifiers]))\n",
    "\n",
    "dict = {'Model': [],\n",
    "        'score_created_in_given': [],\n",
    "        'score_given_in_created': [],\n",
    "        'score_classifier_created_given': [],\n",
    "        'score_classifier_given_created': [],\n",
    "        'BERT': [],\n",
    "        'FUZZ': [],\n",
    "        'JARO': [],\n",
    "        'BLEU': [],\n",
    "        'METEOR': [],\n",
    "        'ROUGE': [],\n",
    "        'SPACY': [],\n",
    "        'Average': []\n",
    "        }\n",
    "\n",
    "for keyword_method in all_keyword_methods:\n",
    "    dict['Model'].append(keyword_method)\n",
    "    for classifiers in all_classifiers:\n",
    "        dict[classifiers].append(round(statistics.stdev(keywords_eval[keyword_method][classifiers]), 4))\n",
    "    dict['Average'].append(round(statistics.stdev(mean_counter[keyword_method]), 4))\n",
    "df = pd.DataFrame({key: pd.Series(value) for key, value in dict.items()})\n",
    "\n",
    "display(df.T)\n",
    "#print(df.T.to_latex().replace(\"00\", \"\"))"
   ],
   "metadata": {
    "collapsed": false,
    "ExecuteTime": {
     "start_time": "2023-06-07T10:49:07.097738Z",
     "end_time": "2023-06-07T10:49:07.408653Z"
    }
   }
  }
 ],
 "metadata": {
  "kernelspec": {
   "display_name": "Python 3",
   "language": "python",
   "name": "python3"
  },
  "language_info": {
   "codemirror_mode": {
    "name": "ipython",
    "version": 2
   },
   "file_extension": ".py",
   "mimetype": "text/x-python",
   "name": "python",
   "nbconvert_exporter": "python",
   "pygments_lexer": "ipython2",
   "version": "2.7.6"
  }
 },
 "nbformat": 4,
 "nbformat_minor": 0
}
